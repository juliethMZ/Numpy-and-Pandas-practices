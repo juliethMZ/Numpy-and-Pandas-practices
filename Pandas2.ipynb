{
  "nbformat": 4,
  "nbformat_minor": 0,
  "metadata": {
    "colab": {
      "provenance": [],
      "collapsed_sections": [
        "DrWTU4rlDshF"
      ],
      "mount_file_id": "1p1HHPVCuXEpsoK9qEavuakBkhb3pWp4i",
      "authorship_tag": "ABX9TyNak72CRxAHtH4uYZXVQxAi",
      "include_colab_link": true
    },
    "kernelspec": {
      "name": "python3",
      "display_name": "Python 3"
    },
    "language_info": {
      "name": "python"
    }
  },
  "cells": [
    {
      "cell_type": "markdown",
      "metadata": {
        "id": "view-in-github",
        "colab_type": "text"
      },
      "source": [
        "<a href=\"https://colab.research.google.com/github/juliethMZ/Numpy-and-Pandas-practices/blob/main/Pandas2.ipynb\" target=\"_parent\"><img src=\"https://colab.research.google.com/assets/colab-badge.svg\" alt=\"Open In Colab\"/></a>"
      ]
    },
    {
      "cell_type": "code",
      "execution_count": null,
      "metadata": {
        "colab": {
          "base_uri": "https://localhost:8080/"
        },
        "id": "ThOOPxPiA7Z9",
        "outputId": "4cdbc115-6fc6-4aff-bf22-a52d0cd5d3e2"
      },
      "outputs": [
        {
          "output_type": "stream",
          "name": "stdout",
          "text": [
            "Requirement already satisfied: numpy in /usr/local/lib/python3.10/dist-packages (1.26.4)\n",
            "Requirement already satisfied: pandas in /usr/local/lib/python3.10/dist-packages (2.1.4)\n",
            "Requirement already satisfied: matplotlib in /usr/local/lib/python3.10/dist-packages (3.7.1)\n",
            "Requirement already satisfied: python-dateutil>=2.8.2 in /usr/local/lib/python3.10/dist-packages (from pandas) (2.8.2)\n",
            "Requirement already satisfied: pytz>=2020.1 in /usr/local/lib/python3.10/dist-packages (from pandas) (2024.2)\n",
            "Requirement already satisfied: tzdata>=2022.1 in /usr/local/lib/python3.10/dist-packages (from pandas) (2024.1)\n",
            "Requirement already satisfied: contourpy>=1.0.1 in /usr/local/lib/python3.10/dist-packages (from matplotlib) (1.3.0)\n",
            "Requirement already satisfied: cycler>=0.10 in /usr/local/lib/python3.10/dist-packages (from matplotlib) (0.12.1)\n",
            "Requirement already satisfied: fonttools>=4.22.0 in /usr/local/lib/python3.10/dist-packages (from matplotlib) (4.53.1)\n",
            "Requirement already satisfied: kiwisolver>=1.0.1 in /usr/local/lib/python3.10/dist-packages (from matplotlib) (1.4.7)\n",
            "Requirement already satisfied: packaging>=20.0 in /usr/local/lib/python3.10/dist-packages (from matplotlib) (24.1)\n",
            "Requirement already satisfied: pillow>=6.2.0 in /usr/local/lib/python3.10/dist-packages (from matplotlib) (10.4.0)\n",
            "Requirement already satisfied: pyparsing>=2.3.1 in /usr/local/lib/python3.10/dist-packages (from matplotlib) (3.1.4)\n",
            "Requirement already satisfied: six>=1.5 in /usr/local/lib/python3.10/dist-packages (from python-dateutil>=2.8.2->pandas) (1.16.0)\n"
          ]
        }
      ],
      "source": [
        "!pip install numpy pandas matplotlib"
      ]
    },
    {
      "cell_type": "markdown",
      "source": [
        "# **CREACION Y MANIPULACION DE COLUMNAS EN PANDAS**"
      ],
      "metadata": {
        "id": "DrWTU4rlDshF"
      }
    },
    {
      "cell_type": "code",
      "source": [
        "import pandas as pd\n",
        "\n",
        "df = pd.read_csv('/content/Online_Retail.csv', encoding='latin-1')\n",
        "\n",
        "df['TotalPrice'] = df['Quantity'] * df['UnitPrice'] #aqui creo una nueva columna 'TotalPrice'\n",
        "df.head()"
      ],
      "metadata": {
        "colab": {
          "base_uri": "https://localhost:8080/",
          "height": 499
        },
        "id": "U1acmC2GCbh1",
        "outputId": "787a3b78-4cd8-47ff-fe33-e535635a9847"
      },
      "execution_count": null,
      "outputs": [
        {
          "output_type": "execute_result",
          "data": {
            "text/plain": [
              "  InvoiceNo StockCode                          Description  Quantity  \\\n",
              "0    536365    85123A   WHITE HANGING HEART T-LIGHT HOLDER       6.0   \n",
              "1    536365     71053                  WHITE METAL LANTERN       6.0   \n",
              "2    536365    84406B       CREAM CUPID HEARTS COAT HANGER       8.0   \n",
              "3    536365    84029G  KNITTED UNION FLAG HOT WATER BOTTLE       6.0   \n",
              "4    536365    84029E       RED WOOLLY HOTTIE WHITE HEART.       6.0   \n",
              "\n",
              "    InvoiceDate  UnitPrice  CustomerID         Country  TotalPrice  \n",
              "0  12/1/10 8:26       2.55     17850.0  United Kingdom       15.30  \n",
              "1  12/1/10 8:26       3.39     17850.0  United Kingdom       20.34  \n",
              "2  12/1/10 8:26       2.75     17850.0  United Kingdom       22.00  \n",
              "3  12/1/10 8:26       3.39     17850.0  United Kingdom       20.34  \n",
              "4  12/1/10 8:26       3.39     17850.0  United Kingdom       20.34  "
            ],
            "text/html": [
              "\n",
              "  <div id=\"df-2f15bc36-b4b5-449b-9b6d-ea2fe01ab11e\" class=\"colab-df-container\">\n",
              "    <div>\n",
              "<style scoped>\n",
              "    .dataframe tbody tr th:only-of-type {\n",
              "        vertical-align: middle;\n",
              "    }\n",
              "\n",
              "    .dataframe tbody tr th {\n",
              "        vertical-align: top;\n",
              "    }\n",
              "\n",
              "    .dataframe thead th {\n",
              "        text-align: right;\n",
              "    }\n",
              "</style>\n",
              "<table border=\"1\" class=\"dataframe\">\n",
              "  <thead>\n",
              "    <tr style=\"text-align: right;\">\n",
              "      <th></th>\n",
              "      <th>InvoiceNo</th>\n",
              "      <th>StockCode</th>\n",
              "      <th>Description</th>\n",
              "      <th>Quantity</th>\n",
              "      <th>InvoiceDate</th>\n",
              "      <th>UnitPrice</th>\n",
              "      <th>CustomerID</th>\n",
              "      <th>Country</th>\n",
              "      <th>TotalPrice</th>\n",
              "    </tr>\n",
              "  </thead>\n",
              "  <tbody>\n",
              "    <tr>\n",
              "      <th>0</th>\n",
              "      <td>536365</td>\n",
              "      <td>85123A</td>\n",
              "      <td>WHITE HANGING HEART T-LIGHT HOLDER</td>\n",
              "      <td>6.0</td>\n",
              "      <td>12/1/10 8:26</td>\n",
              "      <td>2.55</td>\n",
              "      <td>17850.0</td>\n",
              "      <td>United Kingdom</td>\n",
              "      <td>15.30</td>\n",
              "    </tr>\n",
              "    <tr>\n",
              "      <th>1</th>\n",
              "      <td>536365</td>\n",
              "      <td>71053</td>\n",
              "      <td>WHITE METAL LANTERN</td>\n",
              "      <td>6.0</td>\n",
              "      <td>12/1/10 8:26</td>\n",
              "      <td>3.39</td>\n",
              "      <td>17850.0</td>\n",
              "      <td>United Kingdom</td>\n",
              "      <td>20.34</td>\n",
              "    </tr>\n",
              "    <tr>\n",
              "      <th>2</th>\n",
              "      <td>536365</td>\n",
              "      <td>84406B</td>\n",
              "      <td>CREAM CUPID HEARTS COAT HANGER</td>\n",
              "      <td>8.0</td>\n",
              "      <td>12/1/10 8:26</td>\n",
              "      <td>2.75</td>\n",
              "      <td>17850.0</td>\n",
              "      <td>United Kingdom</td>\n",
              "      <td>22.00</td>\n",
              "    </tr>\n",
              "    <tr>\n",
              "      <th>3</th>\n",
              "      <td>536365</td>\n",
              "      <td>84029G</td>\n",
              "      <td>KNITTED UNION FLAG HOT WATER BOTTLE</td>\n",
              "      <td>6.0</td>\n",
              "      <td>12/1/10 8:26</td>\n",
              "      <td>3.39</td>\n",
              "      <td>17850.0</td>\n",
              "      <td>United Kingdom</td>\n",
              "      <td>20.34</td>\n",
              "    </tr>\n",
              "    <tr>\n",
              "      <th>4</th>\n",
              "      <td>536365</td>\n",
              "      <td>84029E</td>\n",
              "      <td>RED WOOLLY HOTTIE WHITE HEART.</td>\n",
              "      <td>6.0</td>\n",
              "      <td>12/1/10 8:26</td>\n",
              "      <td>3.39</td>\n",
              "      <td>17850.0</td>\n",
              "      <td>United Kingdom</td>\n",
              "      <td>20.34</td>\n",
              "    </tr>\n",
              "  </tbody>\n",
              "</table>\n",
              "</div>\n",
              "    <div class=\"colab-df-buttons\">\n",
              "\n",
              "  <div class=\"colab-df-container\">\n",
              "    <button class=\"colab-df-convert\" onclick=\"convertToInteractive('df-2f15bc36-b4b5-449b-9b6d-ea2fe01ab11e')\"\n",
              "            title=\"Convert this dataframe to an interactive table.\"\n",
              "            style=\"display:none;\">\n",
              "\n",
              "  <svg xmlns=\"http://www.w3.org/2000/svg\" height=\"24px\" viewBox=\"0 -960 960 960\">\n",
              "    <path d=\"M120-120v-720h720v720H120Zm60-500h600v-160H180v160Zm220 220h160v-160H400v160Zm0 220h160v-160H400v160ZM180-400h160v-160H180v160Zm440 0h160v-160H620v160ZM180-180h160v-160H180v160Zm440 0h160v-160H620v160Z\"/>\n",
              "  </svg>\n",
              "    </button>\n",
              "\n",
              "  <style>\n",
              "    .colab-df-container {\n",
              "      display:flex;\n",
              "      gap: 12px;\n",
              "    }\n",
              "\n",
              "    .colab-df-convert {\n",
              "      background-color: #E8F0FE;\n",
              "      border: none;\n",
              "      border-radius: 50%;\n",
              "      cursor: pointer;\n",
              "      display: none;\n",
              "      fill: #1967D2;\n",
              "      height: 32px;\n",
              "      padding: 0 0 0 0;\n",
              "      width: 32px;\n",
              "    }\n",
              "\n",
              "    .colab-df-convert:hover {\n",
              "      background-color: #E2EBFA;\n",
              "      box-shadow: 0px 1px 2px rgba(60, 64, 67, 0.3), 0px 1px 3px 1px rgba(60, 64, 67, 0.15);\n",
              "      fill: #174EA6;\n",
              "    }\n",
              "\n",
              "    .colab-df-buttons div {\n",
              "      margin-bottom: 4px;\n",
              "    }\n",
              "\n",
              "    [theme=dark] .colab-df-convert {\n",
              "      background-color: #3B4455;\n",
              "      fill: #D2E3FC;\n",
              "    }\n",
              "\n",
              "    [theme=dark] .colab-df-convert:hover {\n",
              "      background-color: #434B5C;\n",
              "      box-shadow: 0px 1px 3px 1px rgba(0, 0, 0, 0.15);\n",
              "      filter: drop-shadow(0px 1px 2px rgba(0, 0, 0, 0.3));\n",
              "      fill: #FFFFFF;\n",
              "    }\n",
              "  </style>\n",
              "\n",
              "    <script>\n",
              "      const buttonEl =\n",
              "        document.querySelector('#df-2f15bc36-b4b5-449b-9b6d-ea2fe01ab11e button.colab-df-convert');\n",
              "      buttonEl.style.display =\n",
              "        google.colab.kernel.accessAllowed ? 'block' : 'none';\n",
              "\n",
              "      async function convertToInteractive(key) {\n",
              "        const element = document.querySelector('#df-2f15bc36-b4b5-449b-9b6d-ea2fe01ab11e');\n",
              "        const dataTable =\n",
              "          await google.colab.kernel.invokeFunction('convertToInteractive',\n",
              "                                                    [key], {});\n",
              "        if (!dataTable) return;\n",
              "\n",
              "        const docLinkHtml = 'Like what you see? Visit the ' +\n",
              "          '<a target=\"_blank\" href=https://colab.research.google.com/notebooks/data_table.ipynb>data table notebook</a>'\n",
              "          + ' to learn more about interactive tables.';\n",
              "        element.innerHTML = '';\n",
              "        dataTable['output_type'] = 'display_data';\n",
              "        await google.colab.output.renderOutput(dataTable, element);\n",
              "        const docLink = document.createElement('div');\n",
              "        docLink.innerHTML = docLinkHtml;\n",
              "        element.appendChild(docLink);\n",
              "      }\n",
              "    </script>\n",
              "  </div>\n",
              "\n",
              "\n",
              "<div id=\"df-3a732cc8-0d2e-427b-b3d3-4475d1e07fe4\">\n",
              "  <button class=\"colab-df-quickchart\" onclick=\"quickchart('df-3a732cc8-0d2e-427b-b3d3-4475d1e07fe4')\"\n",
              "            title=\"Suggest charts\"\n",
              "            style=\"display:none;\">\n",
              "\n",
              "<svg xmlns=\"http://www.w3.org/2000/svg\" height=\"24px\"viewBox=\"0 0 24 24\"\n",
              "     width=\"24px\">\n",
              "    <g>\n",
              "        <path d=\"M19 3H5c-1.1 0-2 .9-2 2v14c0 1.1.9 2 2 2h14c1.1 0 2-.9 2-2V5c0-1.1-.9-2-2-2zM9 17H7v-7h2v7zm4 0h-2V7h2v10zm4 0h-2v-4h2v4z\"/>\n",
              "    </g>\n",
              "</svg>\n",
              "  </button>\n",
              "\n",
              "<style>\n",
              "  .colab-df-quickchart {\n",
              "      --bg-color: #E8F0FE;\n",
              "      --fill-color: #1967D2;\n",
              "      --hover-bg-color: #E2EBFA;\n",
              "      --hover-fill-color: #174EA6;\n",
              "      --disabled-fill-color: #AAA;\n",
              "      --disabled-bg-color: #DDD;\n",
              "  }\n",
              "\n",
              "  [theme=dark] .colab-df-quickchart {\n",
              "      --bg-color: #3B4455;\n",
              "      --fill-color: #D2E3FC;\n",
              "      --hover-bg-color: #434B5C;\n",
              "      --hover-fill-color: #FFFFFF;\n",
              "      --disabled-bg-color: #3B4455;\n",
              "      --disabled-fill-color: #666;\n",
              "  }\n",
              "\n",
              "  .colab-df-quickchart {\n",
              "    background-color: var(--bg-color);\n",
              "    border: none;\n",
              "    border-radius: 50%;\n",
              "    cursor: pointer;\n",
              "    display: none;\n",
              "    fill: var(--fill-color);\n",
              "    height: 32px;\n",
              "    padding: 0;\n",
              "    width: 32px;\n",
              "  }\n",
              "\n",
              "  .colab-df-quickchart:hover {\n",
              "    background-color: var(--hover-bg-color);\n",
              "    box-shadow: 0 1px 2px rgba(60, 64, 67, 0.3), 0 1px 3px 1px rgba(60, 64, 67, 0.15);\n",
              "    fill: var(--button-hover-fill-color);\n",
              "  }\n",
              "\n",
              "  .colab-df-quickchart-complete:disabled,\n",
              "  .colab-df-quickchart-complete:disabled:hover {\n",
              "    background-color: var(--disabled-bg-color);\n",
              "    fill: var(--disabled-fill-color);\n",
              "    box-shadow: none;\n",
              "  }\n",
              "\n",
              "  .colab-df-spinner {\n",
              "    border: 2px solid var(--fill-color);\n",
              "    border-color: transparent;\n",
              "    border-bottom-color: var(--fill-color);\n",
              "    animation:\n",
              "      spin 1s steps(1) infinite;\n",
              "  }\n",
              "\n",
              "  @keyframes spin {\n",
              "    0% {\n",
              "      border-color: transparent;\n",
              "      border-bottom-color: var(--fill-color);\n",
              "      border-left-color: var(--fill-color);\n",
              "    }\n",
              "    20% {\n",
              "      border-color: transparent;\n",
              "      border-left-color: var(--fill-color);\n",
              "      border-top-color: var(--fill-color);\n",
              "    }\n",
              "    30% {\n",
              "      border-color: transparent;\n",
              "      border-left-color: var(--fill-color);\n",
              "      border-top-color: var(--fill-color);\n",
              "      border-right-color: var(--fill-color);\n",
              "    }\n",
              "    40% {\n",
              "      border-color: transparent;\n",
              "      border-right-color: var(--fill-color);\n",
              "      border-top-color: var(--fill-color);\n",
              "    }\n",
              "    60% {\n",
              "      border-color: transparent;\n",
              "      border-right-color: var(--fill-color);\n",
              "    }\n",
              "    80% {\n",
              "      border-color: transparent;\n",
              "      border-right-color: var(--fill-color);\n",
              "      border-bottom-color: var(--fill-color);\n",
              "    }\n",
              "    90% {\n",
              "      border-color: transparent;\n",
              "      border-bottom-color: var(--fill-color);\n",
              "    }\n",
              "  }\n",
              "</style>\n",
              "\n",
              "  <script>\n",
              "    async function quickchart(key) {\n",
              "      const quickchartButtonEl =\n",
              "        document.querySelector('#' + key + ' button');\n",
              "      quickchartButtonEl.disabled = true;  // To prevent multiple clicks.\n",
              "      quickchartButtonEl.classList.add('colab-df-spinner');\n",
              "      try {\n",
              "        const charts = await google.colab.kernel.invokeFunction(\n",
              "            'suggestCharts', [key], {});\n",
              "      } catch (error) {\n",
              "        console.error('Error during call to suggestCharts:', error);\n",
              "      }\n",
              "      quickchartButtonEl.classList.remove('colab-df-spinner');\n",
              "      quickchartButtonEl.classList.add('colab-df-quickchart-complete');\n",
              "    }\n",
              "    (() => {\n",
              "      let quickchartButtonEl =\n",
              "        document.querySelector('#df-3a732cc8-0d2e-427b-b3d3-4475d1e07fe4 button');\n",
              "      quickchartButtonEl.style.display =\n",
              "        google.colab.kernel.accessAllowed ? 'block' : 'none';\n",
              "    })();\n",
              "  </script>\n",
              "</div>\n",
              "\n",
              "    </div>\n",
              "  </div>\n"
            ],
            "application/vnd.google.colaboratory.intrinsic+json": {
              "type": "dataframe",
              "variable_name": "df",
              "summary": "{\n  \"name\": \"df\",\n  \"rows\": 64886,\n  \"fields\": [\n    {\n      \"column\": \"InvoiceNo\",\n      \"properties\": {\n        \"dtype\": \"category\",\n        \"num_unique_values\": 2873,\n        \"samples\": [\n          \"537635\",\n          \"540059\",\n          \"538653\"\n        ],\n        \"semantic_type\": \"\",\n        \"description\": \"\"\n      }\n    },\n    {\n      \"column\": \"StockCode\",\n      \"properties\": {\n        \"dtype\": \"category\",\n        \"num_unique_values\": 2971,\n        \"samples\": [\n          \"20849\",\n          \"22283\",\n          \"22698\"\n        ],\n        \"semantic_type\": \"\",\n        \"description\": \"\"\n      }\n    },\n    {\n      \"column\": \"Description\",\n      \"properties\": {\n        \"dtype\": \"category\",\n        \"num_unique_values\": 2908,\n        \"samples\": [\n          \"VINTAGE CREAM CAT FOOD CONTAINER\",\n          \"CHARLIE + LOLA BISCUITS TINS\",\n          \"ORIGAMI OPIUM INCENSE/CANDLE SET \"\n        ],\n        \"semantic_type\": \"\",\n        \"description\": \"\"\n      }\n    },\n    {\n      \"column\": \"Quantity\",\n      \"properties\": {\n        \"dtype\": \"number\",\n        \"std\": 415.7206248012091,\n        \"min\": -74215.0,\n        \"max\": 74215.0,\n        \"num_unique_values\": 245,\n        \"samples\": [\n          192.0,\n          24.0,\n          1394.0\n        ],\n        \"semantic_type\": \"\",\n        \"description\": \"\"\n      }\n    },\n    {\n      \"column\": \"InvoiceDate\",\n      \"properties\": {\n        \"dtype\": \"object\",\n        \"num_unique_values\": 2562,\n        \"samples\": [\n          \"1/11/11 11:54\",\n          \"12/23/10 11:36\",\n          \"12/14/10 11:37\"\n        ],\n        \"semantic_type\": \"\",\n        \"description\": \"\"\n      }\n    },\n    {\n      \"column\": \"UnitPrice\",\n      \"properties\": {\n        \"dtype\": \"number\",\n        \"std\": 146.47788949954273,\n        \"min\": 0.0,\n        \"max\": 16888.02,\n        \"num_unique_values\": 424,\n        \"samples\": [\n          28.0,\n          311.66,\n          95.38\n        ],\n        \"semantic_type\": \"\",\n        \"description\": \"\"\n      }\n    },\n    {\n      \"column\": \"CustomerID\",\n      \"properties\": {\n        \"dtype\": \"number\",\n        \"std\": 1769.82784617321,\n        \"min\": 12346.0,\n        \"max\": 18283.0,\n        \"num_unique_values\": 1202,\n        \"samples\": [\n          13782.0,\n          16221.0,\n          16928.0\n        ],\n        \"semantic_type\": \"\",\n        \"description\": \"\"\n      }\n    },\n    {\n      \"column\": \"Country\",\n      \"properties\": {\n        \"dtype\": \"category\",\n        \"num_unique_values\": 24,\n        \"samples\": [\n          \"Spain\",\n          \"Channel Islands\",\n          \"United Kingdom\"\n        ],\n        \"semantic_type\": \"\",\n        \"description\": \"\"\n      }\n    },\n    {\n      \"column\": \"TotalPrice\",\n      \"properties\": {\n        \"dtype\": \"number\",\n        \"std\": 459.66217806588395,\n        \"min\": -77183.6,\n        \"max\": 77183.6,\n        \"num_unique_values\": 2178,\n        \"samples\": [\n          3.87,\n          8.49,\n          633.76\n        ],\n        \"semantic_type\": \"\",\n        \"description\": \"\"\n      }\n    }\n  ]\n}"
            }
          },
          "metadata": {},
          "execution_count": 1
        }
      ]
    },
    {
      "cell_type": "code",
      "source": [
        "#crear columnas basadas en de condicionales con valores de tipo booleano\n",
        "\n",
        "df['HighValue'] = df['TotalPrice'] > 16 #creando otra columa 'HighValue'\n",
        "print(df['HighValue'])\n",
        "df.head(3)"
      ],
      "metadata": {
        "colab": {
          "base_uri": "https://localhost:8080/",
          "height": 451
        },
        "id": "V39dzUZaEkVM",
        "outputId": "bab777f5-8652-44fd-e4b4-ae1435eda3ec"
      },
      "execution_count": null,
      "outputs": [
        {
          "output_type": "stream",
          "name": "stdout",
          "text": [
            "0         False\n",
            "1          True\n",
            "2          True\n",
            "3          True\n",
            "4          True\n",
            "          ...  \n",
            "541904    False\n",
            "541905    False\n",
            "541906     True\n",
            "541907     True\n",
            "541908    False\n",
            "Name: HighValue, Length: 541909, dtype: bool\n"
          ]
        },
        {
          "output_type": "execute_result",
          "data": {
            "text/plain": [
              "  InvoiceNo StockCode                         Description  Quantity  \\\n",
              "0    536365    85123A  WHITE HANGING HEART T-LIGHT HOLDER         6   \n",
              "1    536365     71053                 WHITE METAL LANTERN         6   \n",
              "2    536365    84406B      CREAM CUPID HEARTS COAT HANGER         8   \n",
              "\n",
              "    InvoiceDate  UnitPrice  CustomerID         Country  TotalPrice  HighValue  \n",
              "0  12/1/10 8:26       2.55     17850.0  United Kingdom       15.30      False  \n",
              "1  12/1/10 8:26       3.39     17850.0  United Kingdom       20.34       True  \n",
              "2  12/1/10 8:26       2.75     17850.0  United Kingdom       22.00       True  "
            ],
            "text/html": [
              "\n",
              "  <div id=\"df-6d1ad6c0-96a4-4311-8e2d-2f8d25cbe28f\" class=\"colab-df-container\">\n",
              "    <div>\n",
              "<style scoped>\n",
              "    .dataframe tbody tr th:only-of-type {\n",
              "        vertical-align: middle;\n",
              "    }\n",
              "\n",
              "    .dataframe tbody tr th {\n",
              "        vertical-align: top;\n",
              "    }\n",
              "\n",
              "    .dataframe thead th {\n",
              "        text-align: right;\n",
              "    }\n",
              "</style>\n",
              "<table border=\"1\" class=\"dataframe\">\n",
              "  <thead>\n",
              "    <tr style=\"text-align: right;\">\n",
              "      <th></th>\n",
              "      <th>InvoiceNo</th>\n",
              "      <th>StockCode</th>\n",
              "      <th>Description</th>\n",
              "      <th>Quantity</th>\n",
              "      <th>InvoiceDate</th>\n",
              "      <th>UnitPrice</th>\n",
              "      <th>CustomerID</th>\n",
              "      <th>Country</th>\n",
              "      <th>TotalPrice</th>\n",
              "      <th>HighValue</th>\n",
              "    </tr>\n",
              "  </thead>\n",
              "  <tbody>\n",
              "    <tr>\n",
              "      <th>0</th>\n",
              "      <td>536365</td>\n",
              "      <td>85123A</td>\n",
              "      <td>WHITE HANGING HEART T-LIGHT HOLDER</td>\n",
              "      <td>6</td>\n",
              "      <td>12/1/10 8:26</td>\n",
              "      <td>2.55</td>\n",
              "      <td>17850.0</td>\n",
              "      <td>United Kingdom</td>\n",
              "      <td>15.30</td>\n",
              "      <td>False</td>\n",
              "    </tr>\n",
              "    <tr>\n",
              "      <th>1</th>\n",
              "      <td>536365</td>\n",
              "      <td>71053</td>\n",
              "      <td>WHITE METAL LANTERN</td>\n",
              "      <td>6</td>\n",
              "      <td>12/1/10 8:26</td>\n",
              "      <td>3.39</td>\n",
              "      <td>17850.0</td>\n",
              "      <td>United Kingdom</td>\n",
              "      <td>20.34</td>\n",
              "      <td>True</td>\n",
              "    </tr>\n",
              "    <tr>\n",
              "      <th>2</th>\n",
              "      <td>536365</td>\n",
              "      <td>84406B</td>\n",
              "      <td>CREAM CUPID HEARTS COAT HANGER</td>\n",
              "      <td>8</td>\n",
              "      <td>12/1/10 8:26</td>\n",
              "      <td>2.75</td>\n",
              "      <td>17850.0</td>\n",
              "      <td>United Kingdom</td>\n",
              "      <td>22.00</td>\n",
              "      <td>True</td>\n",
              "    </tr>\n",
              "  </tbody>\n",
              "</table>\n",
              "</div>\n",
              "    <div class=\"colab-df-buttons\">\n",
              "\n",
              "  <div class=\"colab-df-container\">\n",
              "    <button class=\"colab-df-convert\" onclick=\"convertToInteractive('df-6d1ad6c0-96a4-4311-8e2d-2f8d25cbe28f')\"\n",
              "            title=\"Convert this dataframe to an interactive table.\"\n",
              "            style=\"display:none;\">\n",
              "\n",
              "  <svg xmlns=\"http://www.w3.org/2000/svg\" height=\"24px\" viewBox=\"0 -960 960 960\">\n",
              "    <path d=\"M120-120v-720h720v720H120Zm60-500h600v-160H180v160Zm220 220h160v-160H400v160Zm0 220h160v-160H400v160ZM180-400h160v-160H180v160Zm440 0h160v-160H620v160ZM180-180h160v-160H180v160Zm440 0h160v-160H620v160Z\"/>\n",
              "  </svg>\n",
              "    </button>\n",
              "\n",
              "  <style>\n",
              "    .colab-df-container {\n",
              "      display:flex;\n",
              "      gap: 12px;\n",
              "    }\n",
              "\n",
              "    .colab-df-convert {\n",
              "      background-color: #E8F0FE;\n",
              "      border: none;\n",
              "      border-radius: 50%;\n",
              "      cursor: pointer;\n",
              "      display: none;\n",
              "      fill: #1967D2;\n",
              "      height: 32px;\n",
              "      padding: 0 0 0 0;\n",
              "      width: 32px;\n",
              "    }\n",
              "\n",
              "    .colab-df-convert:hover {\n",
              "      background-color: #E2EBFA;\n",
              "      box-shadow: 0px 1px 2px rgba(60, 64, 67, 0.3), 0px 1px 3px 1px rgba(60, 64, 67, 0.15);\n",
              "      fill: #174EA6;\n",
              "    }\n",
              "\n",
              "    .colab-df-buttons div {\n",
              "      margin-bottom: 4px;\n",
              "    }\n",
              "\n",
              "    [theme=dark] .colab-df-convert {\n",
              "      background-color: #3B4455;\n",
              "      fill: #D2E3FC;\n",
              "    }\n",
              "\n",
              "    [theme=dark] .colab-df-convert:hover {\n",
              "      background-color: #434B5C;\n",
              "      box-shadow: 0px 1px 3px 1px rgba(0, 0, 0, 0.15);\n",
              "      filter: drop-shadow(0px 1px 2px rgba(0, 0, 0, 0.3));\n",
              "      fill: #FFFFFF;\n",
              "    }\n",
              "  </style>\n",
              "\n",
              "    <script>\n",
              "      const buttonEl =\n",
              "        document.querySelector('#df-6d1ad6c0-96a4-4311-8e2d-2f8d25cbe28f button.colab-df-convert');\n",
              "      buttonEl.style.display =\n",
              "        google.colab.kernel.accessAllowed ? 'block' : 'none';\n",
              "\n",
              "      async function convertToInteractive(key) {\n",
              "        const element = document.querySelector('#df-6d1ad6c0-96a4-4311-8e2d-2f8d25cbe28f');\n",
              "        const dataTable =\n",
              "          await google.colab.kernel.invokeFunction('convertToInteractive',\n",
              "                                                    [key], {});\n",
              "        if (!dataTable) return;\n",
              "\n",
              "        const docLinkHtml = 'Like what you see? Visit the ' +\n",
              "          '<a target=\"_blank\" href=https://colab.research.google.com/notebooks/data_table.ipynb>data table notebook</a>'\n",
              "          + ' to learn more about interactive tables.';\n",
              "        element.innerHTML = '';\n",
              "        dataTable['output_type'] = 'display_data';\n",
              "        await google.colab.output.renderOutput(dataTable, element);\n",
              "        const docLink = document.createElement('div');\n",
              "        docLink.innerHTML = docLinkHtml;\n",
              "        element.appendChild(docLink);\n",
              "      }\n",
              "    </script>\n",
              "  </div>\n",
              "\n",
              "\n",
              "<div id=\"df-0e46d480-f0e1-45a7-a7d7-04f070ada4a5\">\n",
              "  <button class=\"colab-df-quickchart\" onclick=\"quickchart('df-0e46d480-f0e1-45a7-a7d7-04f070ada4a5')\"\n",
              "            title=\"Suggest charts\"\n",
              "            style=\"display:none;\">\n",
              "\n",
              "<svg xmlns=\"http://www.w3.org/2000/svg\" height=\"24px\"viewBox=\"0 0 24 24\"\n",
              "     width=\"24px\">\n",
              "    <g>\n",
              "        <path d=\"M19 3H5c-1.1 0-2 .9-2 2v14c0 1.1.9 2 2 2h14c1.1 0 2-.9 2-2V5c0-1.1-.9-2-2-2zM9 17H7v-7h2v7zm4 0h-2V7h2v10zm4 0h-2v-4h2v4z\"/>\n",
              "    </g>\n",
              "</svg>\n",
              "  </button>\n",
              "\n",
              "<style>\n",
              "  .colab-df-quickchart {\n",
              "      --bg-color: #E8F0FE;\n",
              "      --fill-color: #1967D2;\n",
              "      --hover-bg-color: #E2EBFA;\n",
              "      --hover-fill-color: #174EA6;\n",
              "      --disabled-fill-color: #AAA;\n",
              "      --disabled-bg-color: #DDD;\n",
              "  }\n",
              "\n",
              "  [theme=dark] .colab-df-quickchart {\n",
              "      --bg-color: #3B4455;\n",
              "      --fill-color: #D2E3FC;\n",
              "      --hover-bg-color: #434B5C;\n",
              "      --hover-fill-color: #FFFFFF;\n",
              "      --disabled-bg-color: #3B4455;\n",
              "      --disabled-fill-color: #666;\n",
              "  }\n",
              "\n",
              "  .colab-df-quickchart {\n",
              "    background-color: var(--bg-color);\n",
              "    border: none;\n",
              "    border-radius: 50%;\n",
              "    cursor: pointer;\n",
              "    display: none;\n",
              "    fill: var(--fill-color);\n",
              "    height: 32px;\n",
              "    padding: 0;\n",
              "    width: 32px;\n",
              "  }\n",
              "\n",
              "  .colab-df-quickchart:hover {\n",
              "    background-color: var(--hover-bg-color);\n",
              "    box-shadow: 0 1px 2px rgba(60, 64, 67, 0.3), 0 1px 3px 1px rgba(60, 64, 67, 0.15);\n",
              "    fill: var(--button-hover-fill-color);\n",
              "  }\n",
              "\n",
              "  .colab-df-quickchart-complete:disabled,\n",
              "  .colab-df-quickchart-complete:disabled:hover {\n",
              "    background-color: var(--disabled-bg-color);\n",
              "    fill: var(--disabled-fill-color);\n",
              "    box-shadow: none;\n",
              "  }\n",
              "\n",
              "  .colab-df-spinner {\n",
              "    border: 2px solid var(--fill-color);\n",
              "    border-color: transparent;\n",
              "    border-bottom-color: var(--fill-color);\n",
              "    animation:\n",
              "      spin 1s steps(1) infinite;\n",
              "  }\n",
              "\n",
              "  @keyframes spin {\n",
              "    0% {\n",
              "      border-color: transparent;\n",
              "      border-bottom-color: var(--fill-color);\n",
              "      border-left-color: var(--fill-color);\n",
              "    }\n",
              "    20% {\n",
              "      border-color: transparent;\n",
              "      border-left-color: var(--fill-color);\n",
              "      border-top-color: var(--fill-color);\n",
              "    }\n",
              "    30% {\n",
              "      border-color: transparent;\n",
              "      border-left-color: var(--fill-color);\n",
              "      border-top-color: var(--fill-color);\n",
              "      border-right-color: var(--fill-color);\n",
              "    }\n",
              "    40% {\n",
              "      border-color: transparent;\n",
              "      border-right-color: var(--fill-color);\n",
              "      border-top-color: var(--fill-color);\n",
              "    }\n",
              "    60% {\n",
              "      border-color: transparent;\n",
              "      border-right-color: var(--fill-color);\n",
              "    }\n",
              "    80% {\n",
              "      border-color: transparent;\n",
              "      border-right-color: var(--fill-color);\n",
              "      border-bottom-color: var(--fill-color);\n",
              "    }\n",
              "    90% {\n",
              "      border-color: transparent;\n",
              "      border-bottom-color: var(--fill-color);\n",
              "    }\n",
              "  }\n",
              "</style>\n",
              "\n",
              "  <script>\n",
              "    async function quickchart(key) {\n",
              "      const quickchartButtonEl =\n",
              "        document.querySelector('#' + key + ' button');\n",
              "      quickchartButtonEl.disabled = true;  // To prevent multiple clicks.\n",
              "      quickchartButtonEl.classList.add('colab-df-spinner');\n",
              "      try {\n",
              "        const charts = await google.colab.kernel.invokeFunction(\n",
              "            'suggestCharts', [key], {});\n",
              "      } catch (error) {\n",
              "        console.error('Error during call to suggestCharts:', error);\n",
              "      }\n",
              "      quickchartButtonEl.classList.remove('colab-df-spinner');\n",
              "      quickchartButtonEl.classList.add('colab-df-quickchart-complete');\n",
              "    }\n",
              "    (() => {\n",
              "      let quickchartButtonEl =\n",
              "        document.querySelector('#df-0e46d480-f0e1-45a7-a7d7-04f070ada4a5 button');\n",
              "      quickchartButtonEl.style.display =\n",
              "        google.colab.kernel.accessAllowed ? 'block' : 'none';\n",
              "    })();\n",
              "  </script>\n",
              "</div>\n",
              "\n",
              "    </div>\n",
              "  </div>\n"
            ],
            "application/vnd.google.colaboratory.intrinsic+json": {
              "type": "dataframe",
              "variable_name": "df"
            }
          },
          "metadata": {},
          "execution_count": 13
        }
      ]
    },
    {
      "cell_type": "code",
      "source": [
        "# función .info() da el resumen rápido sobre un DataFrame.\n",
        "\n",
        "print(df.info())"
      ],
      "metadata": {
        "colab": {
          "base_uri": "https://localhost:8080/"
        },
        "id": "LsS0IqdgHPDI",
        "outputId": "3c9fa622-827d-4d0a-9a41-2ecd24a0c3dd"
      },
      "execution_count": null,
      "outputs": [
        {
          "output_type": "stream",
          "name": "stdout",
          "text": [
            "<class 'pandas.core.frame.DataFrame'>\n",
            "RangeIndex: 541909 entries, 0 to 541908\n",
            "Data columns (total 10 columns):\n",
            " #   Column       Non-Null Count   Dtype  \n",
            "---  ------       --------------   -----  \n",
            " 0   InvoiceNo    541909 non-null  object \n",
            " 1   StockCode    541909 non-null  object \n",
            " 2   Description  540455 non-null  object \n",
            " 3   Quantity     541909 non-null  int64  \n",
            " 4   InvoiceDate  541909 non-null  object \n",
            " 5   UnitPrice    541909 non-null  float64\n",
            " 6   CustomerID   406829 non-null  float64\n",
            " 7   Country      541909 non-null  object \n",
            " 8   TotalPrice   541909 non-null  float64\n",
            " 9   HighValue    541909 non-null  bool   \n",
            "dtypes: bool(1), float64(3), int64(1), object(5)\n",
            "memory usage: 37.7+ MB\n",
            "None\n"
          ]
        }
      ]
    },
    {
      "cell_type": "code",
      "source": [
        "#vamos a cambiar de objeto a tiempo fecha\n",
        "df ['InvoiceDate'] = pd.to_datetime(df['InvoiceDate']) #aqui transformamos la columa el valor de objeto a fecha\n",
        "print(df.info())"
      ],
      "metadata": {
        "colab": {
          "base_uri": "https://localhost:8080/"
        },
        "id": "RGKquN2yHdsa",
        "outputId": "97e48d66-5480-42e5-f4ec-550b95692a1c"
      },
      "execution_count": null,
      "outputs": [
        {
          "output_type": "stream",
          "name": "stderr",
          "text": [
            "<ipython-input-15-0780488f0cb8>:2: UserWarning: Could not infer format, so each element will be parsed individually, falling back to `dateutil`. To ensure parsing is consistent and as-expected, please specify a format.\n",
            "  df ['InvoiceDate'] = pd.to_datetime(df['InvoiceDate']) #aqui transformamos la columa el valor de objeto a fecha\n"
          ]
        },
        {
          "output_type": "stream",
          "name": "stdout",
          "text": [
            "<class 'pandas.core.frame.DataFrame'>\n",
            "RangeIndex: 541909 entries, 0 to 541908\n",
            "Data columns (total 10 columns):\n",
            " #   Column       Non-Null Count   Dtype         \n",
            "---  ------       --------------   -----         \n",
            " 0   InvoiceNo    541909 non-null  object        \n",
            " 1   StockCode    541909 non-null  object        \n",
            " 2   Description  540455 non-null  object        \n",
            " 3   Quantity     541909 non-null  int64         \n",
            " 4   InvoiceDate  541909 non-null  datetime64[ns]\n",
            " 5   UnitPrice    541909 non-null  float64       \n",
            " 6   CustomerID   406829 non-null  float64       \n",
            " 7   Country      541909 non-null  object        \n",
            " 8   TotalPrice   541909 non-null  float64       \n",
            " 9   HighValue    541909 non-null  bool          \n",
            "dtypes: bool(1), datetime64[ns](1), float64(3), int64(1), object(4)\n",
            "memory usage: 37.7+ MB\n",
            "None\n"
          ]
        }
      ]
    },
    {
      "cell_type": "code",
      "source": [
        "#FUNCION LAMBDA---------------------------------------------------\n",
        "df['DiscountedPrice'] = df['UnitPrice'].apply(lambda x: x* 0.9)\n",
        "print(df.head(3))"
      ],
      "metadata": {
        "colab": {
          "base_uri": "https://localhost:8080/"
        },
        "id": "D-OBY3pxIe48",
        "outputId": "792b560e-9226-488f-ca4d-da6c822e86b6"
      },
      "execution_count": null,
      "outputs": [
        {
          "output_type": "stream",
          "name": "stdout",
          "text": [
            "  InvoiceNo StockCode                         Description  Quantity  \\\n",
            "0    536365    85123A  WHITE HANGING HEART T-LIGHT HOLDER         6   \n",
            "1    536365     71053                 WHITE METAL LANTERN         6   \n",
            "2    536365    84406B      CREAM CUPID HEARTS COAT HANGER         8   \n",
            "\n",
            "          InvoiceDate  UnitPrice  CustomerID         Country  TotalPrice  \\\n",
            "0 2010-12-01 08:26:00       2.55     17850.0  United Kingdom       15.30   \n",
            "1 2010-12-01 08:26:00       3.39     17850.0  United Kingdom       20.34   \n",
            "2 2010-12-01 08:26:00       2.75     17850.0  United Kingdom       22.00   \n",
            "\n",
            "   HighValue  DiscountedPrice  \n",
            "0      False            2.295  \n",
            "1       True            3.051  \n",
            "2       True            2.475  \n"
          ]
        }
      ]
    },
    {
      "cell_type": "code",
      "source": [
        "#FUNCION APPLY (podemos transformar con datos categoricos)\n",
        "def catergorize_price(price):\n",
        "  if price > 50:\n",
        "    return 'High'\n",
        "  elif price < 20:\n",
        "    return 'Medium'\n",
        "  else:\n",
        "    return 'Low'\n",
        "\n",
        "df['PriceCategory'] = df['UnitPrice'].apply(catergorize_price)\n",
        "\n",
        "print(df.head(3))"
      ],
      "metadata": {
        "colab": {
          "base_uri": "https://localhost:8080/"
        },
        "id": "gy2INxBUKJQS",
        "outputId": "76dbc4cb-7c13-40c4-9da8-7542eca7e72a"
      },
      "execution_count": null,
      "outputs": [
        {
          "output_type": "stream",
          "name": "stdout",
          "text": [
            "  InvoiceNo StockCode                         Description  Quantity  \\\n",
            "0    536365    85123A  WHITE HANGING HEART T-LIGHT HOLDER         6   \n",
            "1    536365     71053                 WHITE METAL LANTERN         6   \n",
            "2    536365    84406B      CREAM CUPID HEARTS COAT HANGER         8   \n",
            "\n",
            "          InvoiceDate  UnitPrice  CustomerID         Country  TotalPrice  \\\n",
            "0 2010-12-01 08:26:00       2.55     17850.0  United Kingdom       15.30   \n",
            "1 2010-12-01 08:26:00       3.39     17850.0  United Kingdom       20.34   \n",
            "2 2010-12-01 08:26:00       2.75     17850.0  United Kingdom       22.00   \n",
            "\n",
            "   HighValue  DiscountedPrice PriceCategory  \n",
            "0      False            2.295        Medium  \n",
            "1       True            3.051        Medium  \n",
            "2       True            2.475        Medium  \n"
          ]
        }
      ]
    },
    {
      "cell_type": "code",
      "source": [
        "#FUNCION GROUPBY\n",
        "#analisis de ventas de los productos más vendidos en regiones, producto y tiempo\n",
        "\n",
        "country_count = df['Country'].value_counts()\n",
        "print(country_count)"
      ],
      "metadata": {
        "colab": {
          "base_uri": "https://localhost:8080/"
        },
        "id": "00jXb7O_L08t",
        "outputId": "10b29536-ee0b-4c41-a689-9298458c00f8"
      },
      "execution_count": null,
      "outputs": [
        {
          "output_type": "stream",
          "name": "stdout",
          "text": [
            "Country\n",
            "United Kingdom          495478\n",
            "Germany                   9495\n",
            "France                    8557\n",
            "EIRE                      8196\n",
            "Spain                     2533\n",
            "Netherlands               2371\n",
            "Belgium                   2069\n",
            "Switzerland               2002\n",
            "Portugal                  1519\n",
            "Australia                 1259\n",
            "Norway                    1086\n",
            "Italy                      803\n",
            "Channel Islands            758\n",
            "Finland                    695\n",
            "Cyprus                     622\n",
            "Sweden                     462\n",
            "Unspecified                446\n",
            "Austria                    401\n",
            "Denmark                    389\n",
            "Japan                      358\n",
            "Poland                     341\n",
            "Israel                     297\n",
            "USA                        291\n",
            "Hong Kong                  288\n",
            "Singapore                  229\n",
            "Iceland                    182\n",
            "Canada                     151\n",
            "Greece                     146\n",
            "Malta                      127\n",
            "United Arab Emirates        68\n",
            "European Community          61\n",
            "RSA                         58\n",
            "Lebanon                     45\n",
            "Lithuania                   35\n",
            "Brazil                      32\n",
            "Czech Republic              30\n",
            "Bahrain                     19\n",
            "Saudi Arabia                10\n",
            "Name: count, dtype: int64\n"
          ]
        }
      ]
    },
    {
      "cell_type": "code",
      "source": [
        "#agrupar por pais para calcular la suma total de cantidad\n",
        "#esta info podemos averuar media, mediana etc\n",
        "country_group = df.groupby('Country') ['Quantity'].sum() #cantidad de ventas y de cada pais la suma\n",
        "print(country_group)"
      ],
      "metadata": {
        "colab": {
          "base_uri": "https://localhost:8080/"
        },
        "id": "lSjlM9sbMjwV",
        "outputId": "cf4b6ab6-0c51-450c-8a15-8a2be1425fe5"
      },
      "execution_count": null,
      "outputs": [
        {
          "output_type": "stream",
          "name": "stdout",
          "text": [
            "Country\n",
            "Australia                 83653\n",
            "Austria                    4827\n",
            "Bahrain                     260\n",
            "Belgium                   23152\n",
            "Brazil                      356\n",
            "Canada                     2763\n",
            "Channel Islands            9479\n",
            "Cyprus                     6317\n",
            "Czech Republic              592\n",
            "Denmark                    8188\n",
            "EIRE                     142637\n",
            "European Community          497\n",
            "Finland                   10666\n",
            "France                   110480\n",
            "Germany                  117448\n",
            "Greece                     1556\n",
            "Hong Kong                  4769\n",
            "Iceland                    2458\n",
            "Israel                     4353\n",
            "Italy                      7999\n",
            "Japan                     25218\n",
            "Lebanon                     386\n",
            "Lithuania                   652\n",
            "Malta                       944\n",
            "Netherlands              200128\n",
            "Norway                    19247\n",
            "Poland                     3653\n",
            "Portugal                  16180\n",
            "RSA                         352\n",
            "Saudi Arabia                 75\n",
            "Singapore                  5234\n",
            "Spain                     26824\n",
            "Sweden                    35637\n",
            "Switzerland               30325\n",
            "USA                        1034\n",
            "United Arab Emirates        982\n",
            "United Kingdom          4263829\n",
            "Unspecified                3300\n",
            "Name: Quantity, dtype: int64\n"
          ]
        }
      ]
    },
    {
      "cell_type": "code",
      "source": [
        "country_stats = df.groupby('Country')['Quantity'].agg(['mean','sum'])\n",
        "print(country_stats)"
      ],
      "metadata": {
        "colab": {
          "base_uri": "https://localhost:8080/"
        },
        "id": "njz3L6xANLXZ",
        "outputId": "31e0690c-7618-407e-d8ad-fc6baf8f3b41"
      },
      "execution_count": null,
      "outputs": [
        {
          "output_type": "stream",
          "name": "stdout",
          "text": [
            "                           mean      sum\n",
            "Country                                 \n",
            "Australia             66.444003    83653\n",
            "Austria               12.037406     4827\n",
            "Bahrain               13.684211      260\n",
            "Belgium               11.189947    23152\n",
            "Brazil                11.125000      356\n",
            "Canada                18.298013     2763\n",
            "Channel Islands       12.505277     9479\n",
            "Cyprus                10.155949     6317\n",
            "Czech Republic        19.733333      592\n",
            "Denmark               21.048843     8188\n",
            "EIRE                  17.403245   142637\n",
            "European Community     8.147541      497\n",
            "Finland               15.346763    10666\n",
            "France                12.911067   110480\n",
            "Germany               12.369458   117448\n",
            "Greece                10.657534     1556\n",
            "Hong Kong             16.559028     4769\n",
            "Iceland               13.505495     2458\n",
            "Israel                14.656566     4353\n",
            "Italy                  9.961395     7999\n",
            "Japan                 70.441341    25218\n",
            "Lebanon                8.577778      386\n",
            "Lithuania             18.628571      652\n",
            "Malta                  7.433071      944\n",
            "Netherlands           84.406580   200128\n",
            "Norway                17.722836    19247\n",
            "Poland                10.712610     3653\n",
            "Portugal              10.651745    16180\n",
            "RSA                    6.068966      352\n",
            "Saudi Arabia           7.500000       75\n",
            "Singapore             22.855895     5234\n",
            "Spain                 10.589814    26824\n",
            "Sweden                77.136364    35637\n",
            "Switzerland           15.147353    30325\n",
            "USA                    3.553265     1034\n",
            "United Arab Emirates  14.441176      982\n",
            "United Kingdom         8.605486  4263829\n",
            "Unspecified            7.399103     3300\n"
          ]
        }
      ]
    },
    {
      "cell_type": "code",
      "source": [
        "#en cada pais tiene un codigo de stock y suma cada producto\n",
        "country_stock_group = df.groupby(['Country','StockCode'])['Quantity'].sum()\n",
        "print(country_stock_group)"
      ],
      "metadata": {
        "colab": {
          "base_uri": "https://localhost:8080/"
        },
        "id": "RKn6kBL5NncE",
        "outputId": "0469a98d-f6a8-435c-db24-53fcb010830e"
      },
      "execution_count": null,
      "outputs": [
        {
          "output_type": "stream",
          "name": "stdout",
          "text": [
            "Country      StockCode\n",
            "Australia    15036        600\n",
            "             15056BL        3\n",
            "             16161P       400\n",
            "             16169E        25\n",
            "             20665          6\n",
            "                         ... \n",
            "Unspecified  85180A         2\n",
            "             85180B         1\n",
            "             85212         12\n",
            "             85213         12\n",
            "             85227         10\n",
            "Name: Quantity, Length: 19839, dtype: int64\n"
          ]
        }
      ]
    },
    {
      "cell_type": "code",
      "source": [
        "def total_renevue(group):\n",
        "  return (group['Quantity'] * group['UnitPrice']).sum()\n",
        "\n",
        "total_renevue = df.groupby('Country').apply(total_renevue)\n",
        "print(total_renevue)"
      ],
      "metadata": {
        "colab": {
          "base_uri": "https://localhost:8080/"
        },
        "id": "rwNk43rRP1Kd",
        "outputId": "575a2a22-2345-477f-f28c-2bf4c78141a6"
      },
      "execution_count": null,
      "outputs": [
        {
          "output_type": "stream",
          "name": "stdout",
          "text": [
            "Country\n",
            "Australia                137077.270\n",
            "Austria                   10154.320\n",
            "Bahrain                     548.400\n",
            "Belgium                   40910.960\n",
            "Brazil                     1143.600\n",
            "Canada                     3666.380\n",
            "Channel Islands           20086.290\n",
            "Cyprus                    12946.290\n",
            "Czech Republic              707.720\n",
            "Denmark                   18768.140\n",
            "EIRE                     263276.820\n",
            "European Community         1291.750\n",
            "Finland                   22326.740\n",
            "France                   197403.900\n",
            "Germany                  221698.210\n",
            "Greece                     4710.520\n",
            "Hong Kong                 10117.040\n",
            "Iceland                    4310.000\n",
            "Israel                     7907.820\n",
            "Italy                     16890.510\n",
            "Japan                     35340.620\n",
            "Lebanon                    1693.880\n",
            "Lithuania                  1661.060\n",
            "Malta                      2505.470\n",
            "Netherlands              284661.540\n",
            "Norway                    35163.460\n",
            "Poland                     7213.140\n",
            "Portugal                  29367.020\n",
            "RSA                        1002.310\n",
            "Saudi Arabia                131.170\n",
            "Singapore                  9120.390\n",
            "Spain                     54774.580\n",
            "Sweden                    36595.910\n",
            "Switzerland               56385.350\n",
            "USA                        1730.920\n",
            "United Arab Emirates       1902.280\n",
            "United Kingdom          8187806.364\n",
            "Unspecified                4749.790\n",
            "dtype: float64\n"
          ]
        }
      ]
    },
    {
      "cell_type": "markdown",
      "source": [
        "# **FILTRADO DE DATOS**"
      ],
      "metadata": {
        "id": "c4m18ET4f2Qn"
      }
    },
    {
      "cell_type": "code",
      "source": [
        "#nombrar mi nuevo DataFrame como 'sales_data'\n",
        "file_path = '/content/Online_Retail.csv'\n",
        "sales_data = pd.read_csv(file_path, encoding='latin-1')\n",
        "\n",
        "#------------------------------------------------------------------------------\n",
        "#filtrar ventas en Reino Unido - UK\n",
        "uk_sales = sales_data [sales_data['Country'] == 'United Kingdom']\n",
        "print(uk_sales)"
      ],
      "metadata": {
        "id": "3u-sCbkdf6io"
      },
      "execution_count": null,
      "outputs": []
    },
    {
      "cell_type": "code",
      "source": [
        "#FILTRADO CON OPERADORES\n",
        "high_quantity_sales = sales_data[(sales_data['Quantity'] > 120)]\n",
        "print(high_quantity_sales)"
      ],
      "metadata": {
        "colab": {
          "base_uri": "https://localhost:8080/"
        },
        "id": "-6yJozHLi37n",
        "outputId": "66347efa-f3e0-4fc2-a993-5a2f4c132b1c"
      },
      "execution_count": null,
      "outputs": [
        {
          "output_type": "stream",
          "name": "stdout",
          "text": [
            "      InvoiceNo StockCode                     Description  Quantity  \\\n",
            "178      536387     79321                   CHILLI LIGHTS       192   \n",
            "179      536387     22780  LIGHT GARLAND BUTTERFILES PINK       192   \n",
            "180      536387     22779      WOODEN OWLS LIGHT GARLAND        192   \n",
            "181      536387     22466   FAIRY TALE COTTAGE NIGHTLIGHT       432   \n",
            "182      536387     21731   RED TOADSTOOL LED NIGHT LIGHT       432   \n",
            "...         ...       ...                             ...       ...   \n",
            "77047    542690     70006        LOVE HEART POCKET WARMER       900   \n",
            "77056    542691     84879   ASSORTED COLOUR BIRD ORNAMENT       160   \n",
            "77074    542694     15036       ASSORTED COLOURS SILK FAN       600   \n",
            "77766    542785     16016     LARGE CHINESE STYLE SCISSOR       200   \n",
            "77829    542789     84879   ASSORTED COLOUR BIRD ORNAMENT       160   \n",
            "\n",
            "         InvoiceDate  UnitPrice  CustomerID         Country  \n",
            "178     12/1/10 9:58       3.82     16029.0  United Kingdom  \n",
            "179     12/1/10 9:58       3.37     16029.0  United Kingdom  \n",
            "180     12/1/10 9:58       3.37     16029.0  United Kingdom  \n",
            "181     12/1/10 9:58       1.45     16029.0  United Kingdom  \n",
            "182     12/1/10 9:58       1.25     16029.0  United Kingdom  \n",
            "...              ...        ...         ...             ...  \n",
            "77047  1/31/11 12:33       0.42     14298.0  United Kingdom  \n",
            "77056  1/31/11 12:34       1.45     13408.0  United Kingdom  \n",
            "77074  1/31/11 12:37       0.53     12908.0  United Kingdom  \n",
            "77766   2/1/11 10:14       0.72     13881.0  United Kingdom  \n",
            "77829   2/1/11 10:38       1.45     17511.0  United Kingdom  \n",
            "\n",
            "[464 rows x 8 columns]\n"
          ]
        }
      ]
    },
    {
      "cell_type": "code",
      "source": [
        "#evaluar ambos filtros con operadores '==' y '>'\n",
        "\n",
        "uk_high_quantity_sales = sales_data[(sales_data['Country'] == 'United Kingdom') & (sales_data['Quantity'] > 330)]\n",
        "print(uk_high_quantity_sales)\n"
      ],
      "metadata": {
        "colab": {
          "base_uri": "https://localhost:8080/"
        },
        "id": "BrZrTIwojf5C",
        "outputId": "973e94c1-df88-4470-a92b-588ef72b993c"
      },
      "execution_count": null,
      "outputs": [
        {
          "output_type": "stream",
          "name": "stdout",
          "text": [
            "      InvoiceNo StockCode                     Description  Quantity  \\\n",
            "181      536387     22466   FAIRY TALE COTTAGE NIGHTLIGHT       432   \n",
            "182      536387     21731   RED TOADSTOOL LED NIGHT LIGHT       432   \n",
            "730      536437     17021          NAMASTE SWAGAT INCENSE       600   \n",
            "870      536477     21137        BLACK RECORD COVER FRAME       480   \n",
            "2364     536584    84029E  RED WOOLLY HOTTIE WHITE HEART.       384   \n",
            "...         ...       ...                             ...       ...   \n",
            "71767    542208     17003             BROCADE RING PURSE        720   \n",
            "74614    542504     37413                             NaN      5568   \n",
            "74615    542505    79063D                             NaN      2560   \n",
            "77047    542690     70006        LOVE HEART POCKET WARMER       900   \n",
            "77074    542694     15036       ASSORTED COLOURS SILK FAN       600   \n",
            "\n",
            "         InvoiceDate  UnitPrice  CustomerID         Country  \n",
            "181     12/1/10 9:58       1.45     16029.0  United Kingdom  \n",
            "182     12/1/10 9:58       1.25     16029.0  United Kingdom  \n",
            "730    12/1/10 12:12       0.24     13694.0  United Kingdom  \n",
            "870    12/1/10 12:27       3.39     16210.0  United Kingdom  \n",
            "2364   12/1/10 16:22       2.95     13777.0  United Kingdom  \n",
            "...              ...        ...         ...             ...  \n",
            "71767  1/26/11 11:35       0.16     16422.0  United Kingdom  \n",
            "74614  1/28/11 12:03       0.00         NaN  United Kingdom  \n",
            "74615  1/28/11 12:04       0.00         NaN  United Kingdom  \n",
            "77047  1/31/11 12:33       0.42     14298.0  United Kingdom  \n",
            "77074  1/31/11 12:37       0.53     12908.0  United Kingdom  \n",
            "\n",
            "[79 rows x 8 columns]\n"
          ]
        }
      ]
    },
    {
      "cell_type": "code",
      "source": [
        "#series, extraer solo el año\n",
        "sales_data['InvoiceDate'] = pd.to_datetime(sales_data['InvoiceDate'])\n",
        "sales_2010 = sales_data[sales_data['InvoiceDate'].dt.year == 2010]\n",
        "print(sales_2010)"
      ],
      "metadata": {
        "colab": {
          "base_uri": "https://localhost:8080/"
        },
        "id": "3jst90rakGvo",
        "outputId": "698c2db8-dfc9-4612-f2ac-71586fa7c534"
      },
      "execution_count": null,
      "outputs": [
        {
          "output_type": "stream",
          "name": "stderr",
          "text": [
            "<ipython-input-5-8ed456fcc7dd>:2: UserWarning: Could not infer format, so each element will be parsed individually, falling back to `dateutil`. To ensure parsing is consistent and as-expected, please specify a format.\n",
            "  sales_data['InvoiceDate'] = pd.to_datetime(sales_data['InvoiceDate'])\n"
          ]
        },
        {
          "output_type": "stream",
          "name": "stdout",
          "text": [
            "      InvoiceNo StockCode                          Description  Quantity  \\\n",
            "0        536365    85123A   WHITE HANGING HEART T-LIGHT HOLDER         6   \n",
            "1        536365     71053                  WHITE METAL LANTERN         6   \n",
            "2        536365    84406B       CREAM CUPID HEARTS COAT HANGER         8   \n",
            "3        536365    84029G  KNITTED UNION FLAG HOT WATER BOTTLE         6   \n",
            "4        536365    84029E       RED WOOLLY HOTTIE WHITE HEART.         6   \n",
            "...         ...       ...                                  ...       ...   \n",
            "42476    539991     21618       4 WILDFLOWER BOTANICAL CANDLES         1   \n",
            "42477    539991     72741                GRAND CHOCOLATECANDLE         4   \n",
            "42478    539992     21470        FLOWER VINE RAFFIA FOOD COVER         1   \n",
            "42479    539992     22258              FELT FARM ANIMAL RABBIT         1   \n",
            "42480    539992     21155                RED RETROSPOT PEG BAG         1   \n",
            "\n",
            "              InvoiceDate  UnitPrice  CustomerID         Country  \n",
            "0     2010-12-01 08:26:00       2.55     17850.0  United Kingdom  \n",
            "1     2010-12-01 08:26:00       3.39     17850.0  United Kingdom  \n",
            "2     2010-12-01 08:26:00       2.75     17850.0  United Kingdom  \n",
            "3     2010-12-01 08:26:00       3.39     17850.0  United Kingdom  \n",
            "4     2010-12-01 08:26:00       3.39     17850.0  United Kingdom  \n",
            "...                   ...        ...         ...             ...  \n",
            "42476 2010-12-23 16:49:00       1.25         NaN  United Kingdom  \n",
            "42477 2010-12-23 16:49:00       1.45         NaN  United Kingdom  \n",
            "42478 2010-12-23 17:41:00       3.75         NaN  United Kingdom  \n",
            "42479 2010-12-23 17:41:00       1.25         NaN  United Kingdom  \n",
            "42480 2010-12-23 17:41:00       2.10         NaN  United Kingdom  \n",
            "\n",
            "[42481 rows x 8 columns]\n"
          ]
        }
      ]
    },
    {
      "cell_type": "code",
      "source": [
        "#filtro por año y por mes\n",
        "sales_sep_2010 = sales_data[(sales_data['InvoiceDate'].dt.year == 2010)& (sales_data['InvoiceDate'].dt.month == 9) ]\n",
        "print(sales_sep_2010)"
      ],
      "metadata": {
        "colab": {
          "base_uri": "https://localhost:8080/"
        },
        "id": "iCIdkwx4lFbH",
        "outputId": "08c40b68-4207-4f6f-8690-d82fbf465b73"
      },
      "execution_count": null,
      "outputs": [
        {
          "output_type": "stream",
          "name": "stdout",
          "text": [
            "Empty DataFrame\n",
            "Columns: [InvoiceNo, StockCode, Description, Quantity, InvoiceDate, UnitPrice, CustomerID, Country]\n",
            "Index: []\n"
          ]
        }
      ]
    },
    {
      "cell_type": "markdown",
      "source": [
        "# **PIVOT TABLET**"
      ],
      "metadata": {
        "id": "aTecYc_NmiaT"
      }
    },
    {
      "cell_type": "code",
      "source": [
        "#resume y reorganiza datos crudos, estadistica comunes, conteos y promedios\n",
        "#comparar subgrupos de datos, etc.\n",
        "\n",
        "pivot_table = pd.pivot_table(sales_data, values = 'Quantity', index ='Country', #country es mi indice\n",
        "                             columns = 'StockCode', aggfunc='sum') #columnas a evaluar y función'sum'\n",
        "                             #aggfunc sirve para resumir los datos\n",
        "print(pivot_table)\n",
        "\n",
        "#Nan: no ventas en ese pais con ese código"
      ],
      "metadata": {
        "colab": {
          "base_uri": "https://localhost:8080/"
        },
        "id": "QcnVPlcamnsx",
        "outputId": "8fb4e121-f35c-47fb-856b-a546946421a4"
      },
      "execution_count": null,
      "outputs": [
        {
          "output_type": "stream",
          "name": "stdout",
          "text": [
            "StockCode        10002  10120  10123C  10124A  10124G  10125  10133   10135  \\\n",
            "Country                                                                       \n",
            "Australia          NaN    NaN     NaN     NaN     NaN    NaN    NaN     NaN   \n",
            "Austria            NaN    NaN     NaN     NaN     NaN    NaN    NaN     NaN   \n",
            "Bahrain            NaN    NaN     NaN     NaN     NaN    NaN    NaN     NaN   \n",
            "Belgium            NaN    NaN     NaN     NaN     NaN    NaN    NaN     NaN   \n",
            "Channel Islands    NaN    NaN     NaN     NaN     NaN    NaN    NaN     NaN   \n",
            "Cyprus             NaN    NaN     NaN     NaN     NaN    NaN    NaN     NaN   \n",
            "Denmark            NaN    NaN     NaN     NaN     NaN    NaN    NaN     NaN   \n",
            "EIRE              12.0    NaN     NaN     NaN     NaN    NaN    NaN     NaN   \n",
            "Finland            NaN    NaN     NaN     NaN     NaN    NaN    NaN     NaN   \n",
            "France           252.0    NaN     NaN     NaN     NaN   20.0    NaN     NaN   \n",
            "Germany            1.0    NaN     NaN     NaN     NaN   40.0    NaN     NaN   \n",
            "Greece             NaN    NaN     NaN     NaN     NaN    NaN    NaN     NaN   \n",
            "Hong Kong          NaN    NaN     NaN     NaN     NaN    NaN    NaN     NaN   \n",
            "Iceland            NaN    NaN     NaN     NaN     NaN    NaN    NaN     NaN   \n",
            "Israel             NaN    NaN     NaN     NaN     NaN    NaN    NaN     NaN   \n",
            "Italy              NaN    NaN     NaN     NaN     NaN    NaN    NaN     NaN   \n",
            "Japan              NaN    NaN     NaN     NaN     NaN    NaN    NaN     NaN   \n",
            "Lebanon            NaN    NaN     NaN     NaN     NaN    NaN    NaN     NaN   \n",
            "Lithuania          NaN    NaN     NaN     NaN     NaN    NaN    NaN     NaN   \n",
            "Netherlands        NaN    NaN     NaN     NaN     NaN    NaN    NaN     NaN   \n",
            "Norway             NaN    NaN     NaN     NaN     NaN    NaN    NaN     NaN   \n",
            "Poland             NaN    NaN     NaN     NaN     NaN    NaN    NaN     NaN   \n",
            "Portugal           NaN    NaN     NaN     NaN     NaN    NaN   20.0     NaN   \n",
            "Singapore          NaN    NaN     NaN     NaN     NaN    NaN    NaN     NaN   \n",
            "Spain             24.0    NaN     NaN     NaN     NaN    NaN    NaN     NaN   \n",
            "Sweden             NaN    NaN     NaN     NaN     NaN    NaN    NaN     NaN   \n",
            "Switzerland       12.0    NaN     NaN     NaN     NaN    NaN    NaN     NaN   \n",
            "United Kingdom   290.0   16.0     1.0     4.0     5.0  307.0  290.0  1024.0   \n",
            "\n",
            "StockCode        11001  15034  ...  DCGS0076    DOT      M   POST    S  \\\n",
            "Country                        ...                                       \n",
            "Australia          NaN    NaN  ...       NaN    NaN    NaN    NaN  NaN   \n",
            "Austria            NaN    NaN  ...       NaN    NaN    NaN    3.0  NaN   \n",
            "Bahrain            NaN    NaN  ...       NaN    NaN    NaN    NaN  NaN   \n",
            "Belgium            NaN    NaN  ...       NaN    NaN    NaN   21.0  NaN   \n",
            "Channel Islands    NaN    NaN  ...       NaN    NaN    NaN    NaN  NaN   \n",
            "Cyprus             NaN    NaN  ...       NaN    NaN    NaN    NaN  NaN   \n",
            "Denmark            NaN    NaN  ...       NaN    NaN    NaN    8.0  NaN   \n",
            "EIRE              16.0    NaN  ...       NaN    NaN    NaN    NaN  NaN   \n",
            "Finland            NaN    NaN  ...       NaN    NaN    NaN    9.0  NaN   \n",
            "France             NaN    NaN  ...       NaN    NaN    NaN  136.0  NaN   \n",
            "Germany            NaN    NaN  ...       NaN    NaN    NaN  198.0  NaN   \n",
            "Greece             NaN    NaN  ...       NaN    NaN    NaN    NaN  NaN   \n",
            "Hong Kong          NaN    NaN  ...       NaN    NaN    NaN    NaN  NaN   \n",
            "Iceland            NaN    NaN  ...       NaN    NaN    NaN    NaN  NaN   \n",
            "Israel             NaN    NaN  ...       NaN    NaN    NaN    NaN  NaN   \n",
            "Italy              NaN    NaN  ...       NaN    NaN    NaN   17.0  NaN   \n",
            "Japan              NaN    NaN  ...       NaN    NaN    NaN    NaN  NaN   \n",
            "Lebanon            NaN    NaN  ...       NaN    NaN    NaN    NaN  NaN   \n",
            "Lithuania          NaN    NaN  ...       NaN    NaN    NaN    NaN  NaN   \n",
            "Netherlands        NaN    NaN  ...       NaN    NaN    NaN    3.0  NaN   \n",
            "Norway             NaN    NaN  ...       NaN    NaN    NaN    NaN  NaN   \n",
            "Poland             NaN    NaN  ...       NaN    NaN    NaN    NaN  NaN   \n",
            "Portugal          16.0    NaN  ...       NaN    NaN    NaN   41.0  NaN   \n",
            "Singapore          NaN    NaN  ...       NaN    NaN    NaN    NaN  NaN   \n",
            "Spain              NaN    NaN  ...       NaN    NaN   -2.0   19.0  NaN   \n",
            "Sweden             NaN    NaN  ...       NaN    NaN    NaN    4.0  NaN   \n",
            "Switzerland        NaN    NaN  ...       NaN    NaN    NaN    7.0  NaN   \n",
            "United Kingdom    74.0  222.0  ...       3.0  114.0  188.0  993.0 -2.0   \n",
            "\n",
            "StockCode        gift_0001_20  gift_0001_30  gift_0001_40  gift_0001_50    m  \n",
            "Country                                                                       \n",
            "Australia                 NaN           NaN           NaN           NaN  NaN  \n",
            "Austria                   NaN           NaN           NaN           NaN  NaN  \n",
            "Bahrain                   NaN           NaN           NaN           NaN  NaN  \n",
            "Belgium                   NaN           NaN           NaN           NaN  NaN  \n",
            "Channel Islands           NaN           NaN           NaN           NaN  NaN  \n",
            "Cyprus                    NaN           NaN           NaN           NaN  NaN  \n",
            "Denmark                   NaN           NaN           NaN           NaN  NaN  \n",
            "EIRE                      NaN           NaN           NaN           NaN  NaN  \n",
            "Finland                   NaN           NaN           NaN           NaN  NaN  \n",
            "France                    NaN           NaN           NaN           NaN  NaN  \n",
            "Germany                   NaN           NaN           NaN           NaN  NaN  \n",
            "Greece                    NaN           NaN           NaN           NaN  NaN  \n",
            "Hong Kong                 NaN           NaN           NaN           NaN  NaN  \n",
            "Iceland                   NaN           NaN           NaN           NaN  NaN  \n",
            "Israel                    NaN           NaN           NaN           NaN  NaN  \n",
            "Italy                     NaN           NaN           NaN           NaN  NaN  \n",
            "Japan                     NaN           NaN           NaN           NaN  NaN  \n",
            "Lebanon                   NaN           NaN           NaN           NaN  NaN  \n",
            "Lithuania                 NaN           NaN           NaN           NaN  NaN  \n",
            "Netherlands               NaN           NaN           NaN           NaN  NaN  \n",
            "Norway                    NaN           NaN           NaN           NaN  NaN  \n",
            "Poland                    NaN           NaN           NaN           NaN  NaN  \n",
            "Portugal                  NaN           NaN           NaN           NaN  NaN  \n",
            "Singapore                 NaN           NaN           NaN           NaN  NaN  \n",
            "Spain                     NaN           NaN           NaN           NaN  NaN  \n",
            "Sweden                    NaN           NaN           NaN           NaN  NaN  \n",
            "Switzerland               NaN           NaN           NaN           NaN  NaN  \n",
            "United Kingdom            2.0           1.0           1.0           1.0  1.0  \n",
            "\n",
            "[28 rows x 3051 columns]\n"
          ]
        }
      ]
    },
    {
      "cell_type": "code",
      "source": [
        "df = pd.DataFrame (\n",
        "    {'A': [1, 2, 3],\n",
        "     'B': ['oro', 'mares', 'sangre'],\n",
        "     'C': ['amarillo', 'azul', 'rojo']}\n",
        ")\n",
        "print(df)"
      ],
      "metadata": {
        "colab": {
          "base_uri": "https://localhost:8080/"
        },
        "id": "mMVDZdLTEdw1",
        "outputId": "f45ab07d-5112-4f45-d7d6-e04d2a368ed1"
      },
      "execution_count": null,
      "outputs": [
        {
          "output_type": "stream",
          "name": "stdout",
          "text": [
            "   A       B         C\n",
            "0  1     oro  amarillo\n",
            "1  2   mares      azul\n",
            "2  3  sangre      rojo\n"
          ]
        }
      ]
    },
    {
      "cell_type": "code",
      "source": [
        "#transformacion de indices con metodo stack\n",
        "#\n",
        "df_stack = df.stack() #apila los niveles de colum en un DF en niveles de filas\n",
        "print(df_stack)"
      ],
      "metadata": {
        "colab": {
          "base_uri": "https://localhost:8080/"
        },
        "id": "YH0miTB8FRRV",
        "outputId": "191b1bd1-1aa4-43e5-e629-4b210d49d7ca"
      },
      "execution_count": null,
      "outputs": [
        {
          "output_type": "stream",
          "name": "stdout",
          "text": [
            "0  A           1\n",
            "   B         oro\n",
            "   C    amarillo\n",
            "1  A           2\n",
            "   B       mares\n",
            "   C        azul\n",
            "2  A           3\n",
            "   B      sangre\n",
            "   C        rojo\n",
            "dtype: object\n"
          ]
        }
      ]
    },
    {
      "cell_type": "code",
      "source": [
        "#convierte filas en columnas, deshace el apilamiento y transformando un DF de largo a ancho.\n",
        "df_unstack = df_stack.unstack()\n",
        "print(df_unstack)"
      ],
      "metadata": {
        "colab": {
          "base_uri": "https://localhost:8080/"
        },
        "id": "z5TaikEHGYki",
        "outputId": "9309f60d-9191-4957-f92e-2ae3d2c59f1a"
      },
      "execution_count": null,
      "outputs": [
        {
          "output_type": "stream",
          "name": "stdout",
          "text": [
            "   A       B         C\n",
            "0  1     oro  amarillo\n",
            "1  2   mares      azul\n",
            "2  3  sangre      rojo\n"
          ]
        }
      ]
    },
    {
      "cell_type": "markdown",
      "source": [
        "# **FUSION DE DATAFRAMES EN PANDAS**"
      ],
      "metadata": {
        "id": "Uhf88GcLHLNF"
      }
    },
    {
      "cell_type": "code",
      "source": [
        "import pandas as pd\n",
        "\n",
        "#crear DataFrames de ejemplo\n",
        "df1 = pd.DataFrame({'key': ['A', 'B', 'C', 'D'],\n",
        "                    'value1': [1, 2, 3, 4]})\n",
        "\n",
        "df2 = pd.DataFrame({'key': ['B', 'D', 'E', 'F'],\n",
        "                    'value2': [5, 6, 7, 8]})\n",
        "\n",
        "print('DF1:', df1)\n",
        "print('DF2:', df2)"
      ],
      "metadata": {
        "colab": {
          "base_uri": "https://localhost:8080/"
        },
        "id": "wFWDVq2ZHQVC",
        "outputId": "b21a0f60-27b8-4bba-a318-6a65d1e66a44"
      },
      "execution_count": null,
      "outputs": [
        {
          "output_type": "stream",
          "name": "stdout",
          "text": [
            "DF1:   key  value1\n",
            "0   A       1\n",
            "1   B       2\n",
            "2   C       3\n",
            "3   D       4\n",
            "DF2:   key  value2\n",
            "0   B       5\n",
            "1   D       6\n",
            "2   E       7\n",
            "3   F       8\n"
          ]
        }
      ]
    },
    {
      "cell_type": "code",
      "source": [
        "#devolver filas que coincidan con mi DF\n",
        "#une en un solo DF según un campo común en este caso la 'D' y 'B'\n",
        "\n",
        "inner_merged = pd.merge(df1, df2, on='key', how='inner')\n",
        "print(inner_merged)"
      ],
      "metadata": {
        "colab": {
          "base_uri": "https://localhost:8080/"
        },
        "id": "L3T8ZTa0LEIZ",
        "outputId": "029c8c2d-f359-44cf-f411-6721a7aaa9c1"
      },
      "execution_count": null,
      "outputs": [
        {
          "output_type": "stream",
          "name": "stdout",
          "text": [
            "  key  value1  value2\n",
            "0   B       2       5\n",
            "1   D       4       6\n"
          ]
        }
      ]
    },
    {
      "cell_type": "code",
      "source": [
        "#union interna\n",
        "#cuando no encuentra fusión, rellena con NaN\n",
        "outer_merged = pd.merge(df1, df2, on='key', how='outer')\n",
        "print(outer_merged)\n"
      ],
      "metadata": {
        "colab": {
          "base_uri": "https://localhost:8080/"
        },
        "id": "4NDzEutnMAXN",
        "outputId": "0e418ff5-f65c-4a29-a740-c08875318cf3"
      },
      "execution_count": null,
      "outputs": [
        {
          "output_type": "stream",
          "name": "stdout",
          "text": [
            "  key  value1  value2\n",
            "0   A     1.0     NaN\n",
            "1   B     2.0     5.0\n",
            "2   C     3.0     NaN\n",
            "3   D     4.0     6.0\n",
            "4   E     NaN     7.0\n",
            "5   F     NaN     8.0\n"
          ]
        }
      ]
    },
    {
      "cell_type": "code",
      "source": [
        "#merge a la izq y dere\n",
        "left_merged = pd.merge(df1, df2, on='key', how='left')\n",
        "right_merged = pd.merge(df1, df2, on='key', how='right')\n",
        "\n",
        "print(left_merged)\n",
        "print(right_merged)\n"
      ],
      "metadata": {
        "colab": {
          "base_uri": "https://localhost:8080/"
        },
        "id": "4osu_qd1Md48",
        "outputId": "f33fe59e-ba26-48e6-aa18-5670ef0bc7a9"
      },
      "execution_count": null,
      "outputs": [
        {
          "output_type": "stream",
          "name": "stdout",
          "text": [
            "  key  value1  value2\n",
            "0   A       1     NaN\n",
            "1   B       2     5.0\n",
            "2   C       3     NaN\n",
            "3   D       4     6.0\n",
            "  key  value1  value2\n",
            "0   B     2.0       5\n",
            "1   D     4.0       6\n",
            "2   E     NaN       7\n",
            "3   F     NaN       8\n"
          ]
        }
      ]
    },
    {
      "cell_type": "code",
      "source": [
        "#CONCATENACIÓN---------------------------------------------------\n",
        "\n",
        "import pandas as pd\n",
        "\n",
        "#crear DataFrames de ejemplo\n",
        "df3 = pd.DataFrame({\n",
        "    'A': ['A0', 'A1', 'A2', 'A3'],\n",
        "    'B': ['B0', 'B1', 'B2', 'B3']})\n",
        "\n",
        "df4 = pd.DataFrame ({\n",
        "    'A': ['A4', 'A5', 'A6', 'A7'],\n",
        "    'B': ['B4', 'B5', 'B6', 'B7']\n",
        "\n",
        "})\n",
        "\n",
        "print('DF3:', df3)\n",
        "print('DF4:', df4)"
      ],
      "metadata": {
        "colab": {
          "base_uri": "https://localhost:8080/"
        },
        "id": "a8AG6myxrb-Y",
        "outputId": "26f6c334-efce-4f02-cd68-6ef3ebf1a223"
      },
      "execution_count": null,
      "outputs": [
        {
          "output_type": "stream",
          "name": "stdout",
          "text": [
            "DF3:     A   B\n",
            "0  A0  B0\n",
            "1  A1  B1\n",
            "2  A2  B2\n",
            "3  A3  B3\n",
            "DF4:     A   B\n",
            "0  A4  B4\n",
            "1  A5  B5\n",
            "2  A6  B6\n",
            "3  A7  B7\n"
          ]
        }
      ]
    },
    {
      "cell_type": "code",
      "source": [
        "#CONCATENACION VERTICAL\n",
        "#apila uno encima del otro y como comparten columnas se ve mejor la visual\n",
        "concatenated_vertical_df = pd.concat([df3, df4], ignore_index=True)\n",
        "print(concatenated_vertical_df)\n"
      ],
      "metadata": {
        "colab": {
          "base_uri": "https://localhost:8080/"
        },
        "id": "_pZnr9ZasiPz",
        "outputId": "3d311543-8f7a-4a1c-e810-56fbdc662b84"
      },
      "execution_count": null,
      "outputs": [
        {
          "output_type": "stream",
          "name": "stdout",
          "text": [
            "    A   B\n",
            "0  A0  B0\n",
            "1  A1  B1\n",
            "2  A2  B2\n",
            "3  A3  B3\n",
            "4  A4  B4\n",
            "5  A5  B5\n",
            "6  A6  B6\n",
            "7  A7  B7\n"
          ]
        }
      ]
    },
    {
      "cell_type": "code",
      "source": [
        "#CONCATENACION HORIZONTAL\n",
        "concatenated_horizontal_df = pd.concat([df3, df4], axis=1)\n",
        "print(concatenated_horizontal_df)"
      ],
      "metadata": {
        "colab": {
          "base_uri": "https://localhost:8080/"
        },
        "id": "ZoKGYWIwtBlV",
        "outputId": "b7466f69-a8a3-4d30-8d9e-f7832113e8b9"
      },
      "execution_count": null,
      "outputs": [
        {
          "output_type": "stream",
          "name": "stdout",
          "text": [
            "    A   B   A   B\n",
            "0  A0  B0  A4  B4\n",
            "1  A1  B1  A5  B5\n",
            "2  A2  B2  A6  B6\n",
            "3  A3  B3  A7  B7\n"
          ]
        }
      ]
    },
    {
      "cell_type": "code",
      "source": [
        "#crear DataFrames de ejemplo\n",
        "import pandas as pd\n",
        "\n",
        "df5 = pd.DataFrame({\n",
        "    'A': ['A0', 'A1', 'A2', 'A3'],\n",
        "    'B': ['B0', 'B1', 'B2', 'B3']\n",
        "    }, index=['k0', 'k1', 'k2', 'k3'])\n",
        "\n",
        "df6 = pd.DataFrame ({\n",
        "    'A': ['C4', 'C5', 'C6', 'C7'],\n",
        "    'B': ['D4', 'D5', 'D6', 'D7']\n",
        "    }, index = ['k0', 'k1', 'k2', 'k3'])\n",
        "\n",
        "print(df5)\n",
        "print(df6)"
      ],
      "metadata": {
        "colab": {
          "base_uri": "https://localhost:8080/"
        },
        "id": "_hMySos3pVTU",
        "outputId": "123a08b4-1735-4bd8-df74-227be76094f7"
      },
      "execution_count": null,
      "outputs": [
        {
          "output_type": "stream",
          "name": "stdout",
          "text": [
            "     A   B\n",
            "k0  A0  B0\n",
            "k1  A1  B1\n",
            "k2  A2  B2\n",
            "k3  A3  B3\n",
            "     A   B\n",
            "k0  C4  D4\n",
            "k1  C5  D5\n",
            "k2  C6  D6\n",
            "k3  C7  D7\n"
          ]
        }
      ]
    },
    {
      "cell_type": "code",
      "source": [
        "#FUNCION JOIN -------------------------------------------------------\n",
        "#Combinar DF con base en un indice o columna clave\n",
        "joined_df = df5.join(df6, lsuffix='_left', rsuffix='_right')\n",
        "print(joined_df)\n"
      ],
      "metadata": {
        "colab": {
          "base_uri": "https://localhost:8080/"
        },
        "id": "81QECCn8rEpw",
        "outputId": "09c5229d-e20d-4ee2-f251-a4c0d03c44dc"
      },
      "execution_count": null,
      "outputs": [
        {
          "output_type": "stream",
          "name": "stdout",
          "text": [
            "   A_left B_left A_right B_right\n",
            "k0     A0     B0      C4      D4\n",
            "k1     A1     B1      C5      D5\n",
            "k2     A2     B2      C6      D6\n",
            "k3     A3     B3      C7      D7\n"
          ]
        }
      ]
    },
    {
      "cell_type": "markdown",
      "source": [
        "# **MANEJO DE SERIES TEMPORALES**"
      ],
      "metadata": {
        "id": "vyS2Ui-8s_Dd"
      }
    },
    {
      "cell_type": "code",
      "source": [
        "#fehchas y horas: datatime\n",
        "import pandas as pd\n",
        "\n",
        "#cargar el archivo desde el archivo csv\n",
        "file_path = '/content/Online_Retail.csv'\n",
        "df = pd.read_csv(file_path, encoding='latin-1')\n",
        "\n",
        "#mostrar las primeras filas para entender el dataset\n",
        "print(df.head())"
      ],
      "metadata": {
        "colab": {
          "base_uri": "https://localhost:8080/"
        },
        "id": "sYvI9TZ9tCrg",
        "outputId": "8885bea7-957c-44b7-a40d-b1844128bf20"
      },
      "execution_count": null,
      "outputs": [
        {
          "output_type": "stream",
          "name": "stdout",
          "text": [
            "  InvoiceNo StockCode                          Description  Quantity  \\\n",
            "0    536365    85123A   WHITE HANGING HEART T-LIGHT HOLDER         6   \n",
            "1    536365     71053                  WHITE METAL LANTERN         6   \n",
            "2    536365    84406B       CREAM CUPID HEARTS COAT HANGER         8   \n",
            "3    536365    84029G  KNITTED UNION FLAG HOT WATER BOTTLE         6   \n",
            "4    536365    84029E       RED WOOLLY HOTTIE WHITE HEART.         6   \n",
            "\n",
            "    InvoiceDate  UnitPrice  CustomerID         Country  \n",
            "0  12/1/10 8:26       2.55     17850.0  United Kingdom  \n",
            "1  12/1/10 8:26       3.39     17850.0  United Kingdom  \n",
            "2  12/1/10 8:26       2.75     17850.0  United Kingdom  \n",
            "3  12/1/10 8:26       3.39     17850.0  United Kingdom  \n",
            "4  12/1/10 8:26       3.39     17850.0  United Kingdom  \n"
          ]
        }
      ]
    },
    {
      "cell_type": "code",
      "source": [
        "df.info()\n",
        "#en invoiced y country dice que es un objeto"
      ],
      "metadata": {
        "colab": {
          "base_uri": "https://localhost:8080/"
        },
        "id": "24O2Qk8zuLFX",
        "outputId": "0739c557-4453-4ab1-cb65-291131ca58c7"
      },
      "execution_count": null,
      "outputs": [
        {
          "output_type": "stream",
          "name": "stdout",
          "text": [
            "<class 'pandas.core.frame.DataFrame'>\n",
            "RangeIndex: 182043 entries, 0 to 182042\n",
            "Data columns (total 8 columns):\n",
            " #   Column       Non-Null Count   Dtype  \n",
            "---  ------       --------------   -----  \n",
            " 0   InvoiceNo    182043 non-null  object \n",
            " 1   StockCode    182043 non-null  object \n",
            " 2   Description  181287 non-null  object \n",
            " 3   Quantity     182043 non-null  int64  \n",
            " 4   InvoiceDate  182043 non-null  object \n",
            " 5   UnitPrice    182043 non-null  float64\n",
            " 6   CustomerID   127870 non-null  float64\n",
            " 7   Country      182043 non-null  object \n",
            "dtypes: float64(2), int64(1), object(5)\n",
            "memory usage: 11.1+ MB\n"
          ]
        }
      ]
    },
    {
      "cell_type": "code",
      "source": [
        "df['InvoiceDate'] = pd.to_datetime(df['InvoiceDate'])\n",
        "df.info()"
      ],
      "metadata": {
        "colab": {
          "base_uri": "https://localhost:8080/"
        },
        "id": "wbGhv07ZuSZK",
        "outputId": "c5511758-28b5-43fb-b0a2-5abf2625dc6a"
      },
      "execution_count": null,
      "outputs": [
        {
          "output_type": "stream",
          "name": "stderr",
          "text": [
            "<ipython-input-23-137e3d9f257c>:1: UserWarning: Could not infer format, so each element will be parsed individually, falling back to `dateutil`. To ensure parsing is consistent and as-expected, please specify a format.\n",
            "  df['InvoiceDate'] = pd.to_datetime(df['InvoiceDate'])\n"
          ]
        },
        {
          "output_type": "stream",
          "name": "stdout",
          "text": [
            "<class 'pandas.core.frame.DataFrame'>\n",
            "RangeIndex: 182043 entries, 0 to 182042\n",
            "Data columns (total 8 columns):\n",
            " #   Column       Non-Null Count   Dtype         \n",
            "---  ------       --------------   -----         \n",
            " 0   InvoiceNo    182043 non-null  object        \n",
            " 1   StockCode    182043 non-null  object        \n",
            " 2   Description  181287 non-null  object        \n",
            " 3   Quantity     182043 non-null  int64         \n",
            " 4   InvoiceDate  182043 non-null  datetime64[ns]\n",
            " 5   UnitPrice    182043 non-null  float64       \n",
            " 6   CustomerID   127870 non-null  float64       \n",
            " 7   Country      182043 non-null  object        \n",
            "dtypes: datetime64[ns](1), float64(2), int64(1), object(4)\n",
            "memory usage: 11.1+ MB\n"
          ]
        }
      ]
    },
    {
      "cell_type": "code",
      "source": [
        "df.dropna(subset=['InvoiceDate'], inplace=True) #inplace: modificación al dataset"
      ],
      "metadata": {
        "id": "GTY4E0dLvIdh"
      },
      "execution_count": null,
      "outputs": []
    },
    {
      "cell_type": "code",
      "source": [
        "df.set_index('InvoiceDate', inplace=True)\n"
      ],
      "metadata": {
        "id": "DQ-OjM1bvb3w"
      },
      "execution_count": null,
      "outputs": []
    },
    {
      "cell_type": "code",
      "source": [
        "df['year'] = df.index.year\n",
        "df['month'] = df.index.month\n",
        "df['day'] = df.index.day\n",
        "df['hour'] = df.index.hour\n",
        "df['minute'] = df.index.minute\n",
        "\n",
        "print(df['month'])"
      ],
      "metadata": {
        "colab": {
          "base_uri": "https://localhost:8080/"
        },
        "id": "NX1RD3SNwv5_",
        "outputId": "9d45f25d-aa46-4eb6-af57-5365b0c05f01"
      },
      "execution_count": null,
      "outputs": [
        {
          "output_type": "stream",
          "name": "stdout",
          "text": [
            "InvoiceDate\n",
            "2010-12-01 08:26:00    12\n",
            "2010-12-01 08:26:00    12\n",
            "2010-12-01 08:26:00    12\n",
            "2010-12-01 08:26:00    12\n",
            "2010-12-01 08:26:00    12\n",
            "                       ..\n",
            "2011-05-09 16:34:00     5\n",
            "2011-05-09 16:34:00     5\n",
            "2011-05-09 16:34:00     5\n",
            "2011-05-09 16:34:00     5\n",
            "2011-05-09 16:34:00     5\n",
            "Name: month, Length: 182043, dtype: int32\n"
          ]
        }
      ]
    },
    {
      "cell_type": "code",
      "source": [
        "#metodo loc\n",
        "df_2011_dec= df.loc['2011']\n",
        "print(df_2011_dec)\n",
        "df_2011_dec.head(5)"
      ],
      "metadata": {
        "colab": {
          "base_uri": "https://localhost:8080/",
          "height": 1000
        },
        "id": "T48m9P9Uxydp",
        "outputId": "8d49275b-5d59-4bc6-c248-c2d4ce7ae01b"
      },
      "execution_count": null,
      "outputs": [
        {
          "output_type": "stream",
          "name": "stdout",
          "text": [
            "                    InvoiceNo StockCode                        Description  \\\n",
            "InvoiceDate                                                                  \n",
            "2011-01-04 10:00:00    539993     22386            JUMBO BAG PINK POLKADOT   \n",
            "2011-01-04 10:00:00    539993     21499                 BLUE POLKADOT WRAP   \n",
            "2011-01-04 10:00:00    539993     21498                RED RETROSPOT WRAP    \n",
            "2011-01-04 10:00:00    539993     22379           RECYCLING BAG RETROSPOT    \n",
            "2011-01-04 10:00:00    539993     20718          RED RETROSPOT SHOPPER BAG   \n",
            "...                       ...       ...                                ...   \n",
            "2011-05-09 16:34:00    552520     22676      FRENCH BLUE METAL DOOR SIGN 1   \n",
            "2011-05-09 16:34:00    552520     22686     FRENCH BLUE METAL DOOR SIGN No   \n",
            "2011-05-09 16:34:00    552520     22692        DOORMAT WELCOME TO OUR HOME   \n",
            "2011-05-09 16:34:00    552520     22715                   CARD WEDDING DAY   \n",
            "2011-05-09 16:34:00    552520     22720  SET OF 3 CAKE TINS PANTRY DESIGN    \n",
            "\n",
            "                     Quantity  UnitPrice  CustomerID         Country  year  \\\n",
            "InvoiceDate                                                                  \n",
            "2011-01-04 10:00:00        10       1.95     13313.0  United Kingdom  2011   \n",
            "2011-01-04 10:00:00        25       0.42     13313.0  United Kingdom  2011   \n",
            "2011-01-04 10:00:00        25       0.42     13313.0  United Kingdom  2011   \n",
            "2011-01-04 10:00:00         5       2.10     13313.0  United Kingdom  2011   \n",
            "2011-01-04 10:00:00        10       1.25     13313.0  United Kingdom  2011   \n",
            "...                       ...        ...         ...             ...   ...   \n",
            "2011-05-09 16:34:00         1       2.46         NaN  United Kingdom  2011   \n",
            "2011-05-09 16:34:00         1       2.46         NaN  United Kingdom  2011   \n",
            "2011-05-09 16:34:00         1      15.79         NaN  United Kingdom  2011   \n",
            "2011-05-09 16:34:00         1       0.83         NaN  United Kingdom  2011   \n",
            "2011-05-09 16:34:00         2       4.95         NaN              Un  2011   \n",
            "\n",
            "                     month  day  hour  minute  \n",
            "InvoiceDate                                    \n",
            "2011-01-04 10:00:00      1    4    10       0  \n",
            "2011-01-04 10:00:00      1    4    10       0  \n",
            "2011-01-04 10:00:00      1    4    10       0  \n",
            "2011-01-04 10:00:00      1    4    10       0  \n",
            "2011-01-04 10:00:00      1    4    10       0  \n",
            "...                    ...  ...   ...     ...  \n",
            "2011-05-09 16:34:00      5    9    16      34  \n",
            "2011-05-09 16:34:00      5    9    16      34  \n",
            "2011-05-09 16:34:00      5    9    16      34  \n",
            "2011-05-09 16:34:00      5    9    16      34  \n",
            "2011-05-09 16:34:00      5    9    16      34  \n",
            "\n",
            "[139562 rows x 12 columns]\n"
          ]
        },
        {
          "output_type": "execute_result",
          "data": {
            "text/plain": [
              "                    InvoiceNo StockCode                Description  Quantity  \\\n",
              "InvoiceDate                                                                    \n",
              "2011-01-04 10:00:00    539993     22386    JUMBO BAG PINK POLKADOT        10   \n",
              "2011-01-04 10:00:00    539993     21499         BLUE POLKADOT WRAP        25   \n",
              "2011-01-04 10:00:00    539993     21498        RED RETROSPOT WRAP         25   \n",
              "2011-01-04 10:00:00    539993     22379   RECYCLING BAG RETROSPOT          5   \n",
              "2011-01-04 10:00:00    539993     20718  RED RETROSPOT SHOPPER BAG        10   \n",
              "\n",
              "                     UnitPrice  CustomerID         Country  year  month  day  \\\n",
              "InvoiceDate                                                                    \n",
              "2011-01-04 10:00:00       1.95     13313.0  United Kingdom  2011      1    4   \n",
              "2011-01-04 10:00:00       0.42     13313.0  United Kingdom  2011      1    4   \n",
              "2011-01-04 10:00:00       0.42     13313.0  United Kingdom  2011      1    4   \n",
              "2011-01-04 10:00:00       2.10     13313.0  United Kingdom  2011      1    4   \n",
              "2011-01-04 10:00:00       1.25     13313.0  United Kingdom  2011      1    4   \n",
              "\n",
              "                     hour  minute  \n",
              "InvoiceDate                        \n",
              "2011-01-04 10:00:00    10       0  \n",
              "2011-01-04 10:00:00    10       0  \n",
              "2011-01-04 10:00:00    10       0  \n",
              "2011-01-04 10:00:00    10       0  \n",
              "2011-01-04 10:00:00    10       0  "
            ],
            "text/html": [
              "\n",
              "  <div id=\"df-9a96de3c-84a1-468d-9128-3014359f5f81\" class=\"colab-df-container\">\n",
              "    <div>\n",
              "<style scoped>\n",
              "    .dataframe tbody tr th:only-of-type {\n",
              "        vertical-align: middle;\n",
              "    }\n",
              "\n",
              "    .dataframe tbody tr th {\n",
              "        vertical-align: top;\n",
              "    }\n",
              "\n",
              "    .dataframe thead th {\n",
              "        text-align: right;\n",
              "    }\n",
              "</style>\n",
              "<table border=\"1\" class=\"dataframe\">\n",
              "  <thead>\n",
              "    <tr style=\"text-align: right;\">\n",
              "      <th></th>\n",
              "      <th>InvoiceNo</th>\n",
              "      <th>StockCode</th>\n",
              "      <th>Description</th>\n",
              "      <th>Quantity</th>\n",
              "      <th>UnitPrice</th>\n",
              "      <th>CustomerID</th>\n",
              "      <th>Country</th>\n",
              "      <th>year</th>\n",
              "      <th>month</th>\n",
              "      <th>day</th>\n",
              "      <th>hour</th>\n",
              "      <th>minute</th>\n",
              "    </tr>\n",
              "    <tr>\n",
              "      <th>InvoiceDate</th>\n",
              "      <th></th>\n",
              "      <th></th>\n",
              "      <th></th>\n",
              "      <th></th>\n",
              "      <th></th>\n",
              "      <th></th>\n",
              "      <th></th>\n",
              "      <th></th>\n",
              "      <th></th>\n",
              "      <th></th>\n",
              "      <th></th>\n",
              "      <th></th>\n",
              "    </tr>\n",
              "  </thead>\n",
              "  <tbody>\n",
              "    <tr>\n",
              "      <th>2011-01-04 10:00:00</th>\n",
              "      <td>539993</td>\n",
              "      <td>22386</td>\n",
              "      <td>JUMBO BAG PINK POLKADOT</td>\n",
              "      <td>10</td>\n",
              "      <td>1.95</td>\n",
              "      <td>13313.0</td>\n",
              "      <td>United Kingdom</td>\n",
              "      <td>2011</td>\n",
              "      <td>1</td>\n",
              "      <td>4</td>\n",
              "      <td>10</td>\n",
              "      <td>0</td>\n",
              "    </tr>\n",
              "    <tr>\n",
              "      <th>2011-01-04 10:00:00</th>\n",
              "      <td>539993</td>\n",
              "      <td>21499</td>\n",
              "      <td>BLUE POLKADOT WRAP</td>\n",
              "      <td>25</td>\n",
              "      <td>0.42</td>\n",
              "      <td>13313.0</td>\n",
              "      <td>United Kingdom</td>\n",
              "      <td>2011</td>\n",
              "      <td>1</td>\n",
              "      <td>4</td>\n",
              "      <td>10</td>\n",
              "      <td>0</td>\n",
              "    </tr>\n",
              "    <tr>\n",
              "      <th>2011-01-04 10:00:00</th>\n",
              "      <td>539993</td>\n",
              "      <td>21498</td>\n",
              "      <td>RED RETROSPOT WRAP</td>\n",
              "      <td>25</td>\n",
              "      <td>0.42</td>\n",
              "      <td>13313.0</td>\n",
              "      <td>United Kingdom</td>\n",
              "      <td>2011</td>\n",
              "      <td>1</td>\n",
              "      <td>4</td>\n",
              "      <td>10</td>\n",
              "      <td>0</td>\n",
              "    </tr>\n",
              "    <tr>\n",
              "      <th>2011-01-04 10:00:00</th>\n",
              "      <td>539993</td>\n",
              "      <td>22379</td>\n",
              "      <td>RECYCLING BAG RETROSPOT</td>\n",
              "      <td>5</td>\n",
              "      <td>2.10</td>\n",
              "      <td>13313.0</td>\n",
              "      <td>United Kingdom</td>\n",
              "      <td>2011</td>\n",
              "      <td>1</td>\n",
              "      <td>4</td>\n",
              "      <td>10</td>\n",
              "      <td>0</td>\n",
              "    </tr>\n",
              "    <tr>\n",
              "      <th>2011-01-04 10:00:00</th>\n",
              "      <td>539993</td>\n",
              "      <td>20718</td>\n",
              "      <td>RED RETROSPOT SHOPPER BAG</td>\n",
              "      <td>10</td>\n",
              "      <td>1.25</td>\n",
              "      <td>13313.0</td>\n",
              "      <td>United Kingdom</td>\n",
              "      <td>2011</td>\n",
              "      <td>1</td>\n",
              "      <td>4</td>\n",
              "      <td>10</td>\n",
              "      <td>0</td>\n",
              "    </tr>\n",
              "  </tbody>\n",
              "</table>\n",
              "</div>\n",
              "    <div class=\"colab-df-buttons\">\n",
              "\n",
              "  <div class=\"colab-df-container\">\n",
              "    <button class=\"colab-df-convert\" onclick=\"convertToInteractive('df-9a96de3c-84a1-468d-9128-3014359f5f81')\"\n",
              "            title=\"Convert this dataframe to an interactive table.\"\n",
              "            style=\"display:none;\">\n",
              "\n",
              "  <svg xmlns=\"http://www.w3.org/2000/svg\" height=\"24px\" viewBox=\"0 -960 960 960\">\n",
              "    <path d=\"M120-120v-720h720v720H120Zm60-500h600v-160H180v160Zm220 220h160v-160H400v160Zm0 220h160v-160H400v160ZM180-400h160v-160H180v160Zm440 0h160v-160H620v160ZM180-180h160v-160H180v160Zm440 0h160v-160H620v160Z\"/>\n",
              "  </svg>\n",
              "    </button>\n",
              "\n",
              "  <style>\n",
              "    .colab-df-container {\n",
              "      display:flex;\n",
              "      gap: 12px;\n",
              "    }\n",
              "\n",
              "    .colab-df-convert {\n",
              "      background-color: #E8F0FE;\n",
              "      border: none;\n",
              "      border-radius: 50%;\n",
              "      cursor: pointer;\n",
              "      display: none;\n",
              "      fill: #1967D2;\n",
              "      height: 32px;\n",
              "      padding: 0 0 0 0;\n",
              "      width: 32px;\n",
              "    }\n",
              "\n",
              "    .colab-df-convert:hover {\n",
              "      background-color: #E2EBFA;\n",
              "      box-shadow: 0px 1px 2px rgba(60, 64, 67, 0.3), 0px 1px 3px 1px rgba(60, 64, 67, 0.15);\n",
              "      fill: #174EA6;\n",
              "    }\n",
              "\n",
              "    .colab-df-buttons div {\n",
              "      margin-bottom: 4px;\n",
              "    }\n",
              "\n",
              "    [theme=dark] .colab-df-convert {\n",
              "      background-color: #3B4455;\n",
              "      fill: #D2E3FC;\n",
              "    }\n",
              "\n",
              "    [theme=dark] .colab-df-convert:hover {\n",
              "      background-color: #434B5C;\n",
              "      box-shadow: 0px 1px 3px 1px rgba(0, 0, 0, 0.15);\n",
              "      filter: drop-shadow(0px 1px 2px rgba(0, 0, 0, 0.3));\n",
              "      fill: #FFFFFF;\n",
              "    }\n",
              "  </style>\n",
              "\n",
              "    <script>\n",
              "      const buttonEl =\n",
              "        document.querySelector('#df-9a96de3c-84a1-468d-9128-3014359f5f81 button.colab-df-convert');\n",
              "      buttonEl.style.display =\n",
              "        google.colab.kernel.accessAllowed ? 'block' : 'none';\n",
              "\n",
              "      async function convertToInteractive(key) {\n",
              "        const element = document.querySelector('#df-9a96de3c-84a1-468d-9128-3014359f5f81');\n",
              "        const dataTable =\n",
              "          await google.colab.kernel.invokeFunction('convertToInteractive',\n",
              "                                                    [key], {});\n",
              "        if (!dataTable) return;\n",
              "\n",
              "        const docLinkHtml = 'Like what you see? Visit the ' +\n",
              "          '<a target=\"_blank\" href=https://colab.research.google.com/notebooks/data_table.ipynb>data table notebook</a>'\n",
              "          + ' to learn more about interactive tables.';\n",
              "        element.innerHTML = '';\n",
              "        dataTable['output_type'] = 'display_data';\n",
              "        await google.colab.output.renderOutput(dataTable, element);\n",
              "        const docLink = document.createElement('div');\n",
              "        docLink.innerHTML = docLinkHtml;\n",
              "        element.appendChild(docLink);\n",
              "      }\n",
              "    </script>\n",
              "  </div>\n",
              "\n",
              "\n",
              "<div id=\"df-33ea01e9-2206-4b77-b7c0-7e41978ab0e2\">\n",
              "  <button class=\"colab-df-quickchart\" onclick=\"quickchart('df-33ea01e9-2206-4b77-b7c0-7e41978ab0e2')\"\n",
              "            title=\"Suggest charts\"\n",
              "            style=\"display:none;\">\n",
              "\n",
              "<svg xmlns=\"http://www.w3.org/2000/svg\" height=\"24px\"viewBox=\"0 0 24 24\"\n",
              "     width=\"24px\">\n",
              "    <g>\n",
              "        <path d=\"M19 3H5c-1.1 0-2 .9-2 2v14c0 1.1.9 2 2 2h14c1.1 0 2-.9 2-2V5c0-1.1-.9-2-2-2zM9 17H7v-7h2v7zm4 0h-2V7h2v10zm4 0h-2v-4h2v4z\"/>\n",
              "    </g>\n",
              "</svg>\n",
              "  </button>\n",
              "\n",
              "<style>\n",
              "  .colab-df-quickchart {\n",
              "      --bg-color: #E8F0FE;\n",
              "      --fill-color: #1967D2;\n",
              "      --hover-bg-color: #E2EBFA;\n",
              "      --hover-fill-color: #174EA6;\n",
              "      --disabled-fill-color: #AAA;\n",
              "      --disabled-bg-color: #DDD;\n",
              "  }\n",
              "\n",
              "  [theme=dark] .colab-df-quickchart {\n",
              "      --bg-color: #3B4455;\n",
              "      --fill-color: #D2E3FC;\n",
              "      --hover-bg-color: #434B5C;\n",
              "      --hover-fill-color: #FFFFFF;\n",
              "      --disabled-bg-color: #3B4455;\n",
              "      --disabled-fill-color: #666;\n",
              "  }\n",
              "\n",
              "  .colab-df-quickchart {\n",
              "    background-color: var(--bg-color);\n",
              "    border: none;\n",
              "    border-radius: 50%;\n",
              "    cursor: pointer;\n",
              "    display: none;\n",
              "    fill: var(--fill-color);\n",
              "    height: 32px;\n",
              "    padding: 0;\n",
              "    width: 32px;\n",
              "  }\n",
              "\n",
              "  .colab-df-quickchart:hover {\n",
              "    background-color: var(--hover-bg-color);\n",
              "    box-shadow: 0 1px 2px rgba(60, 64, 67, 0.3), 0 1px 3px 1px rgba(60, 64, 67, 0.15);\n",
              "    fill: var(--button-hover-fill-color);\n",
              "  }\n",
              "\n",
              "  .colab-df-quickchart-complete:disabled,\n",
              "  .colab-df-quickchart-complete:disabled:hover {\n",
              "    background-color: var(--disabled-bg-color);\n",
              "    fill: var(--disabled-fill-color);\n",
              "    box-shadow: none;\n",
              "  }\n",
              "\n",
              "  .colab-df-spinner {\n",
              "    border: 2px solid var(--fill-color);\n",
              "    border-color: transparent;\n",
              "    border-bottom-color: var(--fill-color);\n",
              "    animation:\n",
              "      spin 1s steps(1) infinite;\n",
              "  }\n",
              "\n",
              "  @keyframes spin {\n",
              "    0% {\n",
              "      border-color: transparent;\n",
              "      border-bottom-color: var(--fill-color);\n",
              "      border-left-color: var(--fill-color);\n",
              "    }\n",
              "    20% {\n",
              "      border-color: transparent;\n",
              "      border-left-color: var(--fill-color);\n",
              "      border-top-color: var(--fill-color);\n",
              "    }\n",
              "    30% {\n",
              "      border-color: transparent;\n",
              "      border-left-color: var(--fill-color);\n",
              "      border-top-color: var(--fill-color);\n",
              "      border-right-color: var(--fill-color);\n",
              "    }\n",
              "    40% {\n",
              "      border-color: transparent;\n",
              "      border-right-color: var(--fill-color);\n",
              "      border-top-color: var(--fill-color);\n",
              "    }\n",
              "    60% {\n",
              "      border-color: transparent;\n",
              "      border-right-color: var(--fill-color);\n",
              "    }\n",
              "    80% {\n",
              "      border-color: transparent;\n",
              "      border-right-color: var(--fill-color);\n",
              "      border-bottom-color: var(--fill-color);\n",
              "    }\n",
              "    90% {\n",
              "      border-color: transparent;\n",
              "      border-bottom-color: var(--fill-color);\n",
              "    }\n",
              "  }\n",
              "</style>\n",
              "\n",
              "  <script>\n",
              "    async function quickchart(key) {\n",
              "      const quickchartButtonEl =\n",
              "        document.querySelector('#' + key + ' button');\n",
              "      quickchartButtonEl.disabled = true;  // To prevent multiple clicks.\n",
              "      quickchartButtonEl.classList.add('colab-df-spinner');\n",
              "      try {\n",
              "        const charts = await google.colab.kernel.invokeFunction(\n",
              "            'suggestCharts', [key], {});\n",
              "      } catch (error) {\n",
              "        console.error('Error during call to suggestCharts:', error);\n",
              "      }\n",
              "      quickchartButtonEl.classList.remove('colab-df-spinner');\n",
              "      quickchartButtonEl.classList.add('colab-df-quickchart-complete');\n",
              "    }\n",
              "    (() => {\n",
              "      let quickchartButtonEl =\n",
              "        document.querySelector('#df-33ea01e9-2206-4b77-b7c0-7e41978ab0e2 button');\n",
              "      quickchartButtonEl.style.display =\n",
              "        google.colab.kernel.accessAllowed ? 'block' : 'none';\n",
              "    })();\n",
              "  </script>\n",
              "</div>\n",
              "\n",
              "    </div>\n",
              "  </div>\n"
            ],
            "application/vnd.google.colaboratory.intrinsic+json": {
              "type": "dataframe",
              "variable_name": "df_2011_dec"
            }
          },
          "metadata": {},
          "execution_count": 34
        }
      ]
    },
    {
      "cell_type": "code",
      "source": [
        "#rango de fechas y de días\n",
        "df_dec_range = df['2010-12-01':'2010-12-15']\n",
        "print(df_dec_range)"
      ],
      "metadata": {
        "colab": {
          "base_uri": "https://localhost:8080/"
        },
        "id": "38X78OQVzhzj",
        "outputId": "adb2b2c7-60e6-4993-90be-888e6b6cb1b2"
      },
      "execution_count": null,
      "outputs": [
        {
          "output_type": "stream",
          "name": "stdout",
          "text": [
            "                    InvoiceNo StockCode                          Description  \\\n",
            "InvoiceDate                                                                    \n",
            "2010-12-01 08:26:00    536365    85123A   WHITE HANGING HEART T-LIGHT HOLDER   \n",
            "2010-12-01 08:26:00    536365     71053                  WHITE METAL LANTERN   \n",
            "2010-12-01 08:26:00    536365    84406B       CREAM CUPID HEARTS COAT HANGER   \n",
            "2010-12-01 08:26:00    536365    84029G  KNITTED UNION FLAG HOT WATER BOTTLE   \n",
            "2010-12-01 08:26:00    536365    84029E       RED WOOLLY HOTTIE WHITE HEART.   \n",
            "...                       ...       ...                                  ...   \n",
            "2010-12-15 17:28:00    539075     21154            RED RETROSPOT OVEN GLOVE    \n",
            "2010-12-15 17:28:00    539075    47559B                  TEA TIME OVEN GLOVE   \n",
            "2010-12-15 17:28:00    539075     21086          SET/6 RED SPOTTY PAPER CUPS   \n",
            "2010-12-15 17:28:00    539075     22565  FELTCRAFT HAIRBANDS PINK AND WHITE    \n",
            "2010-12-15 17:28:00    539075     22065       CHRISTMAS PUDDING TRINKET POT    \n",
            "\n",
            "                     Quantity  UnitPrice  CustomerID         Country  year  \\\n",
            "InvoiceDate                                                                  \n",
            "2010-12-01 08:26:00         6       2.55     17850.0  United Kingdom  2010   \n",
            "2010-12-01 08:26:00         6       3.39     17850.0  United Kingdom  2010   \n",
            "2010-12-01 08:26:00         8       2.75     17850.0  United Kingdom  2010   \n",
            "2010-12-01 08:26:00         6       3.39     17850.0  United Kingdom  2010   \n",
            "2010-12-01 08:26:00         6       3.39     17850.0  United Kingdom  2010   \n",
            "...                       ...        ...         ...             ...   ...   \n",
            "2010-12-15 17:28:00         4       1.25     17189.0  United Kingdom  2010   \n",
            "2010-12-15 17:28:00         5       1.25     17189.0  United Kingdom  2010   \n",
            "2010-12-15 17:28:00         1       0.65     17189.0  United Kingdom  2010   \n",
            "2010-12-15 17:28:00         1       0.85     17189.0  United Kingdom  2010   \n",
            "2010-12-15 17:28:00         1       1.45     17189.0  United Kingdom  2010   \n",
            "\n",
            "                     month  day  hour  minute  \n",
            "InvoiceDate                                    \n",
            "2010-12-01 08:26:00     12    1     8      26  \n",
            "2010-12-01 08:26:00     12    1     8      26  \n",
            "2010-12-01 08:26:00     12    1     8      26  \n",
            "2010-12-01 08:26:00     12    1     8      26  \n",
            "2010-12-01 08:26:00     12    1     8      26  \n",
            "...                    ...  ...   ...     ...  \n",
            "2010-12-15 17:28:00     12   15    17      28  \n",
            "2010-12-15 17:28:00     12   15    17      28  \n",
            "2010-12-15 17:28:00     12   15    17      28  \n",
            "2010-12-15 17:28:00     12   15    17      28  \n",
            "2010-12-15 17:28:00     12   15    17      28  \n",
            "\n",
            "[32451 rows x 12 columns]\n"
          ]
        }
      ]
    },
    {
      "cell_type": "markdown",
      "source": [
        "# **MATPLOTLIB**"
      ],
      "metadata": {
        "id": "8yYBZcALwZQE"
      }
    },
    {
      "cell_type": "code",
      "source": [
        "import numpy as np\n",
        "import matplotlib.pyplot as plt\n"
      ],
      "metadata": {
        "id": "NGIFMjEzwf2d"
      },
      "execution_count": null,
      "outputs": []
    },
    {
      "cell_type": "code",
      "source": [
        "#GRAFICO DE LINEAS\n",
        "month = np.array (['E', 'F', 'M', 'A', 'My', 'J'])    #paso 1: definir la informacion\n",
        "sales = np.array ([10, 25, 60, 34, 12, 49])\n",
        "\n",
        "#configurar el tamaño del gráfico\n",
        "plt.figure(figsize=(3, 3))                           #paso 2: configurar el tamaño\n",
        "\n",
        "#crear el gráfico\n",
        "plt.plot(month, sales, marker='o', color='blue')      #paso 3: definir el tipo de gráfico\n",
        "plt.title('Ventas Mensuales') #titulo                 #paso 4: definir titulo y etiquetas en 'X' y 'Y'\n",
        "plt.xlabel('Meses') #etiquetas\n",
        "plt.ylabel('Ventas en miles')\n",
        "\n",
        "#mostrar el gráfico\n",
        "plt.show()                                             #paso 5: mostrar el gráfico"
      ],
      "metadata": {
        "colab": {
          "base_uri": "https://localhost:8080/",
          "height": 333
        },
        "id": "xkvbjNKkwo4l",
        "outputId": "84e1bc12-9b2c-4efe-bf5c-ac6a5f35b1e3"
      },
      "execution_count": null,
      "outputs": [
        {
          "output_type": "display_data",
          "data": {
            "text/plain": [
              "<Figure size 300x300 with 1 Axes>"
            ],
            "image/png": "[encoded data removed]"
          },
          "metadata": {}
        }
      ]
    },
    {
      "cell_type": "code",
      "source": [
        "#grafico de dispersión\n",
        "\n",
        "import matplotlib.pyplot as plt\n",
        "\n",
        "#configurar el tamaño del gráfico\n",
        "plt.figure(figsize=(3, 3))\n",
        "\n",
        "hours = [2,3,4,5,6,7,8]\n",
        "exam = [50,90,65,63,75,80,85]\n",
        "\n",
        "plt.scatter(hours, exam, color='red', marker='o')\n",
        "plt.title('Relacion horas y puntaje') #titulo\n",
        "plt.xlabel('horas') #etiquetas\n",
        "plt.ylabel('puntaje')\n",
        "\n",
        "plt.show()"
      ],
      "metadata": {
        "colab": {
          "base_uri": "https://localhost:8080/",
          "height": 333
        },
        "id": "9wn91zlOycW6",
        "outputId": "e4d5981f-5a90-4edd-fef9-7cae3e68ab06"
      },
      "execution_count": null,
      "outputs": [
        {
          "output_type": "display_data",
          "data": {
            "text/plain": [
              "<Figure size 300x300 with 1 Axes>"
            ],
            "image/png": "[encoded data removed]"
          },
          "metadata": {}
        }
      ]
    },
    {
      "cell_type": "code",
      "source": [
        "#personalización de gráficos\n",
        "#colores, ancho, tendencias, etc\n",
        "\n",
        "import matplotlib.pyplot as plt\n",
        "\n",
        "#configurar el tamaño del gráfico\n",
        "plt.figure(figsize=(3, 3))\n",
        "\n",
        "hours = [2,3,4,5,6,7,8]\n",
        "exam_scores_student_1 = [50,54,65,63,75,80,85]\n",
        "exam_scores_student_2 = [60,75,80,85,90,95,100]\n",
        "\n",
        "#grafico de dispersion de 2 student\n",
        "plt.scatter(hours, exam_scores_student_1, color='red', marker='s', label='Student 1')\n",
        "plt.scatter(hours, exam_scores_student_2, color='blue', marker='o', label='Student 2')\n",
        "\n",
        "\n",
        "plt.title('Relacion horas y puntaje de 2 students') #titulo\n",
        "plt.xlabel('horas') #etiquetas\n",
        "plt.ylabel('puntaje')\n",
        "\n",
        "plt.show()"
      ],
      "metadata": {
        "colab": {
          "base_uri": "https://localhost:8080/",
          "height": 333
        },
        "id": "0uOjQoOwzuA8",
        "outputId": "f8e12e2c-2da5-4c4a-829a-f045a441651a"
      },
      "execution_count": null,
      "outputs": [
        {
          "output_type": "display_data",
          "data": {
            "text/plain": [
              "<Figure size 300x300 with 1 Axes>"
            ],
            "image/png": "[encoded data removed]"
          },
          "metadata": {}
        }
      ]
    },
    {
      "cell_type": "code",
      "source": [
        "import numpy as np\n",
        "import matplotlib.pyplot as plt\n",
        "from math import pi\n",
        "\n",
        "# Definir etiquetas y datos\n",
        "categories = ['Arroz', 'Salchipapa', 'Hamburguesa', 'sopita', 'abbas']\n",
        "values = [4, 5, 3, 2, 1]\n",
        "\n",
        "# Crear ángulos para las categorías\n",
        "N = len(categories)\n",
        "angles = [n / float(N) * 2 * pi for n in range(N)]\n",
        "angles += angles[:1]  # Para cerrar el gráfico\n",
        "\n",
        "# Crear el gráfico\n",
        "fig, ax = plt.subplots(figsize=(4, 4), subplot_kw=dict(polar=True))\n",
        "ax.set_theta_offset(pi / 2)\n",
        "ax.set_theta_direction(-1)\n",
        "\n",
        "# Dibujar los datos\n",
        "values += values[:1]  # Cerrar el gráfico\n",
        "ax.plot(angles, values, linewidth=2, linestyle='solid')\n",
        "ax.fill(angles, values, 'b', alpha=0.1)\n",
        "\n",
        "# Añadir etiquetas\n",
        "ax.set_xticks(angles[:-1])\n",
        "ax.set_xticklabels(categories)\n",
        "\n",
        "plt.title('Gráfico de Radar')\n",
        "plt.show()\n",
        "\n"
      ],
      "metadata": {
        "colab": {
          "base_uri": "https://localhost:8080/",
          "height": 393
        },
        "id": "7f9XI5ov4Et8",
        "outputId": "7d792dfc-f50f-41d6-ffce-00f2dc332488"
      },
      "execution_count": null,
      "outputs": [
        {
          "output_type": "display_data",
          "data": {
            "text/plain": [
              "<Figure size 400x400 with 1 Axes>"
            ],
            "image/png": "[encoded data removed]"
          },
          "metadata": {}
        }
      ]
    },
    {
      "cell_type": "code",
      "source": [
        "import pandas as pd\n",
        "import matplotlib.pyplot as plt\n",
        "\n",
        "# Supongamos que tienes un DataFrame con fechas y ventas mensuales\n",
        "data = {\n",
        "    'Fecha': ['2023-01-01', '2023-02-01', '2023-03-01', '2023-04-01', '2023-05-01',\n",
        "              '2023-06-01', '2023-07-01', '2023-08-01', '2023-09-01', '2023-10-01',\n",
        "              '2023-11-01', '2023-12-01'],\n",
        "    'Ventas': [100, 150, 200, 250, 300, 350, 300, 400, 450, 500, 550, 600]\n",
        "}\n",
        "\n",
        "# Convertimos las fechas a un formato de datetime y creamos el DataFrame\n",
        "df = pd.DataFrame(data)\n",
        "df['Fecha'] = pd.to_datetime(df['Fecha'])\n",
        "\n",
        "# Configuración de la gráfica\n",
        "plt.figure(figsize=(10, 6))\n",
        "plt.plot(df['Fecha'], df['Ventas'], marker='o', linestyle='-', color='b', label='Ventas Mensuales')\n",
        "\n",
        "# Añadimos etiquetas y título\n",
        "plt.title('Serie de Tiempos: Ventas Mensuales')\n",
        "plt.xlabel('Fecha')\n",
        "plt.ylabel('Ventas')\n",
        "plt.grid(True)\n",
        "plt.xticks(rotation=45)  # Rotación de las etiquetas del eje X para mejorar la legibilidad\n",
        "plt.legend()\n",
        "\n",
        "# Mostrar la gráfica\n",
        "plt.tight_layout()\n",
        "plt.show()\n"
      ],
      "metadata": {
        "id": "6Wm18YeFNEWw",
        "colab": {
          "base_uri": "https://localhost:8080/",
          "height": 607
        },
        "outputId": "f1e74834-ea19-414d-c059-e3db3048c8ca"
      },
      "execution_count": null,
      "outputs": [
        {
          "output_type": "display_data",
          "data": {
            "text/plain": [
              "<Figure size 1000x600 with 1 Axes>"
            ],
            "image/png": "[encoded data removed]"
          },
          "metadata": {}
        }
      ]
    },
    {
      "cell_type": "code",
      "source": [
        "import pandas as pd\n",
        "import matplotlib.pyplot as plt\n",
        "\n",
        "# 1. Create a sample DataFrame (Replace with your actual birth data)\n",
        "# Assuming you have birth data in a CSV file, you can load it like this:\n",
        "# dataFrameBirths = pd.read_csv('your_birth_data.csv')\n",
        "\n",
        "# For demonstration, I'll create a sample DataFrame:\n",
        "dataFrameBirths = pd.DataFrame({\n",
        "    'Date': pd.to_datetime(['2012-01-01', '2012-02-01', '2012-03-01', '2012-04-01', '2012-05-01', '2012-06-01', '2012-07-01', '2012-08-01', '2012-09-01', '2012-10-01', '2012-11-01', '2012-12-01']),\n",
        "    'Births': [3000, 3200, 3400, 3600, 3800, 4000, 4200, 4400, 4600, 4800, 5000, 5200]\n",
        "})\n",
        "dataFrameBirths.set_index('Date', inplace=True)  # Set 'Date' column as index\n",
        "\n",
        "# 2. Create the plot\n",
        "fig, ax = plt.subplots(figsize=(12, 4))\n",
        "dataFrameBirths.plot(ax=ax)"
      ],
      "metadata": {
        "colab": {
          "base_uri": "https://localhost:8080/",
          "height": 424
        },
        "id": "elV_ju5LOS1b",
        "outputId": "a21b14c8-2962-488b-c855-0971000fb1a3"
      },
      "execution_count": null,
      "outputs": [
        {
          "output_type": "execute_result",
          "data": {
            "text/plain": [
              "<Axes: xlabel='Date'>"
            ]
          },
          "metadata": {},
          "execution_count": 3
        },
        {
          "output_type": "display_data",
          "data": {
            "text/plain": [
              "<Figure size 1200x400 with 1 Axes>"
            ],
            "image/png": "[encoded data removed]"
          },
          "metadata": {}
        }
      ]
    },
    {
      "cell_type": "code",
      "source": [
        "import matplotlib.pyplot as plt\n",
        "\n",
        "# Simulación de datos\n",
        "x = ['2023-01', '2023-02', '2023-03', '2023-04', '2023-05', '2023-06']\n",
        "y = [100, 200, 150, 300, 250, 400]\n",
        "\n",
        "# Crear gráfico\n",
        "plt.plot(x, y, marker='o')\n",
        "\n",
        "# Personalizar etiquetas en el eje X\n",
        "plt.xticks(rotation=45, fontsize=10)\n",
        "\n",
        "# Mostrar gráfico\n",
        "plt.show()\n"
      ],
      "metadata": {
        "colab": {
          "base_uri": "https://localhost:8080/",
          "height": 466
        },
        "id": "UYAWrS5DSNld",
        "outputId": "b40ce8af-242d-46e1-a7a1-d54e22735d0f"
      },
      "execution_count": null,
      "outputs": [
        {
          "output_type": "display_data",
          "data": {
            "text/plain": [
              "<Figure size 640x480 with 1 Axes>"
            ],
            "image/png": "[encoded data removed]"
          },
          "metadata": {}
        }
      ]
    },
    {
      "cell_type": "markdown",
      "source": [
        "# **GRAFICOS AVANZADOS**"
      ],
      "metadata": {
        "id": "mhx302ntiBS6"
      }
    },
    {
      "cell_type": "code",
      "source": [
        "#GRIDSPEC\n",
        "#SUPLOT Y LAYOUT AVANZADOS\n",
        "\n",
        "import matplotlib.pyplot as plt\n",
        "import numpy as np\n",
        "import matplotlib.gridspec as gridspec\n",
        "\n",
        "#crear 3 graficos diferentes\n",
        "x = np.linspace(0, 10, 100) #linspace da: arreglo de numeros espaciados\n",
        "y = np.sin(x)\n",
        "\n",
        "data = np.random.rand(100) #crea un arreglo de 100 datos"
      ],
      "metadata": {
        "id": "_90fTXmDTqBU"
      },
      "execution_count": null,
      "outputs": []
    },
    {
      "cell_type": "code",
      "source": [
        "#crear una grilla o cuadricula para inscrustrar\n",
        "\n",
        "gs = gridspec.GridSpec(2, 2, width_ratios=[1, 1], height_ratios=[2,1])\n",
        "\n",
        "#personalizacion\n",
        "fig = plt.figure(figsize=(10, 8)) #tamaño\n",
        "\n",
        "#incrustrar los gráficos creados, de manera especifica\n",
        "\n",
        "# Primer suplot grande, ocupa la primera fila\n",
        "\n",
        "ax1= fig.add_subplot(gs[0, :])\n",
        "ax1.plot(x,y, color='red')\n",
        "ax1.set_title('Seno de X')\n",
        "ax1.set_xlabel('X')\n",
        "ax1.set_ylabel('Sin(x)') #seno de x\n",
        "\n",
        "# Segundo suplot, ocupa la esquina inferior izquierda\n",
        "\n",
        "ax2 = fig.add_subplot(gs[1, 0])\n",
        "ax2.hist(data, bins = 20, color='purple', edgecolor='black')\n",
        "ax2.set_title('Histograma de Datos')\n",
        "ax2.set_xlabel('Valores')\n",
        "ax2.set_ylabel('Frecuencia')\n",
        "\n",
        "# Tercer suplor, ubicado esquina inferior derecha\n",
        "\n",
        "ax3 = fig.add_subplot(gs[1, 1])\n",
        "ax3.scatter(x, y, color='green', marker='o')\n",
        "ax3.set_title('Dispersión de Seno')\n",
        "ax3.set_xlabel('X')\n",
        "ax3.set_ylabel('Frecuencia)')\n",
        "\n",
        "#ajustar el layout para evitar la superposición\n",
        "\n",
        "plt.tight_layout()\n",
        "plt.show()"
      ],
      "metadata": {
        "colab": {
          "base_uri": "https://localhost:8080/",
          "height": 807
        },
        "id": "Lnv4ye_BWySB",
        "outputId": "19e8bbfd-2074-4559-84b1-cb28fedb47b9"
      },
      "execution_count": null,
      "outputs": [
        {
          "output_type": "display_data",
          "data": {
            "text/plain": [
              "<Figure size 1000x800 with 3 Axes>"
            ],
            "image/png": "[encoded data removed]"
          },
          "metadata": {}
        }
      ]
    }
  ]
}